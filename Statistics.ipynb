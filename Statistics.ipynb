{
  "nbformat": 4,
  "nbformat_minor": 0,
  "metadata": {
    "colab": {
      "provenance": []
    },
    "kernelspec": {
      "name": "python3",
      "display_name": "Python 3"
    },
    "language_info": {
      "name": "python"
    }
  },
  "cells": [
    {
      "cell_type": "code",
      "execution_count": 11,
      "metadata": {
        "colab": {
          "base_uri": "https://localhost:8080/"
        },
        "id": "2znd0mCxfBeg",
        "outputId": "aa2fb168-e14b-450c-b6a9-371ea54eeca0"
      },
      "outputs": [
        {
          "output_type": "stream",
          "name": "stdout",
          "text": [
            "Median: 110.0\n",
            "Mode: [103, 123]\n",
            "Weighted Mean: 109.95255474452554\n",
            "Geometric Mean: 109.05726291623023\n",
            "Harmonic Mean: 108.39148723640118\n",
            "Midrange: 109.5\n",
            "Trimmed Mean: 109.8375\n"
          ]
        }
      ],
      "source": [
        "# Q1. Generate a list of 100 integers containing values between 90 to 130 and store it in the variable `int_list`.\n",
        "# After generating the list, find the following:\n",
        "\n",
        "import random\n",
        "int_list = [random.randint(90, 130) for _ in range(100)]\n",
        "\n",
        "# Create a function to find the median of a list of numbers.\n",
        "\n",
        "def calculate_median(data):\n",
        "    sorted_data = sorted(data)\n",
        "    n = len(data)\n",
        "    mid = n // 2\n",
        "    return (sorted_data[mid - 1] + sorted_data[mid]) / 2 if n % 2 == 0 else sorted_data[mid]\n",
        "\n",
        "median_value = calculate_median(int_list)\n",
        "\n",
        "# (ii) Develop a program to compute the mode of a list of integers.\n",
        "\n",
        "from collections import Counter\n",
        "\n",
        "def calculate_mode(data):\n",
        "    freq = Counter(data)\n",
        "    max_freq = max(freq.values())\n",
        "    return [k for k, v in freq.items() if v == max_freq]\n",
        "\n",
        "mode_values = calculate_mode(int_list)\n",
        "\n",
        "# (iii) Implement a function to calculate the weighted mean of a list of values and their corresponding weights.\n",
        "\n",
        "def weighted_mean(values, weights):\n",
        "    return sum(v * w for v, w in zip(values, weights)) / sum(weights)\n",
        "\n",
        "weights = [random.randint(1, 5) for _ in range(100)]\n",
        "w_mean = weighted_mean(int_list, weights)\n",
        "\n",
        "# (iv) Write a Python function to find the geometric mean of a list of positive numbers.\n",
        "\n",
        "import math\n",
        "\n",
        "def geometric_mean(data):\n",
        "    product = 1\n",
        "    for val in data:\n",
        "        product *= val\n",
        "    return product ** (1 / len(data))\n",
        "\n",
        "g_mean = geometric_mean(int_list)\n",
        "\n",
        "# (v) Create a program to calculate the harmonic mean of a list of values.\n",
        "\n",
        "def harmonic_mean(data):\n",
        "    return len(data) / sum(1 / x for x in data)\n",
        "\n",
        "h_mean = harmonic_mean(int_list)\n",
        "\n",
        "# (vi) Build a function to determine the midrange of a list of numbers (average of the minimum and maximum).\n",
        "\n",
        "def midrange(data):\n",
        "    return (min(data) + max(data)) / 2\n",
        "\n",
        "midrange_val = midrange(int_list)\n",
        "\n",
        "# (vii) Implement a Python program to find the trimmed mean of a list, excluding a certain percentage of\n",
        "# outliers.\n",
        "\n",
        "def trimmed_mean(data, trim_percent=0.1):\n",
        "    sorted_data = sorted(data)\n",
        "    k = int(len(data) * trim_percent)\n",
        "    trimmed_data = sorted_data[k:-k]\n",
        "    return calculate_mean(trimmed_data)\n",
        "\n",
        "trimmed = trimmed_mean(int_list)\n",
        "\n",
        "# OUtputs -\n",
        "print(\"Median:\", median_value)\n",
        "print(\"Mode:\", mode_values)\n",
        "print(\"Weighted Mean:\", w_mean)\n",
        "print(\"Geometric Mean:\", g_mean)\n",
        "print(\"Harmonic Mean:\", h_mean)\n",
        "print(\"Midrange:\", midrange_val)\n",
        "print(\"Trimmed Mean:\", trimmed)"
      ]
    },
    {
      "cell_type": "code",
      "source": [
        "# Q2. Generate a list of 500 integers containing values between 200 to 300 and store it in the variable `int_list2`.\n",
        "# After generating the list, find the following:\n",
        "\n",
        "import random\n",
        "import numpy as np\n",
        "import matplotlib.pyplot as plt\n",
        "import seaborn as sns\n",
        "from scipy import stats\n",
        "\n",
        "int_list2 = [random.randint(200, 300) for _ in range(500)]\n",
        "\n",
        "# (i) Compare the given list of visualization for the given data:\n",
        "plt.figure(figsize=(18, 5))\n",
        "\n",
        "# 1. Frequency & Gaussian distribution\n",
        "plt.subplot(1, 3, 1)\n",
        "sns.histplot(int_list2, kde=False, stat='density', bins=20, color='skyblue', label='Frequency')\n",
        "mean = np.mean(int_list2)\n",
        "std = np.std(int_list2)\n",
        "x = np.linspace(min(int_list2), max(int_list2), 100)\n",
        "plt.plot(x, stats.norm.pdf(x, mean, std), label='Gaussian', color='red')\n",
        "plt.title('Frequency & Gaussian Distribution')\n",
        "plt.legend()\n",
        "\n",
        "# 2. Frequency smoothened KDE plot\n",
        "plt.subplot(1, 3, 2)\n",
        "sns.histplot(int_list2, kde=True, stat='density', bins=20, color='lightgreen')\n",
        "plt.title('Frequency + KDE Plot')\n",
        "\n",
        "# 3. Gaussian distribution & smoothened KDE plot\n",
        "plt.subplot(1, 3, 3)\n",
        "sns.kdeplot(int_list2, label='KDE', color='green')\n",
        "plt.plot(x, stats.norm.pdf(x, mean, std), label='Gaussian', color='red')\n",
        "plt.title('KDE vs Gaussian')\n",
        "plt.legend()\n",
        "\n",
        "plt.tight_layout()\n",
        "plt.show()\n",
        "\n",
        "# (ii) Write a Python function to calculate the range of a given list of numbers.\n",
        "def data_range(data):\n",
        "    return max(data) - min(data)\n",
        "\n",
        "# (iii) Create a program to find the variance and standard deviation of a list of numbers.\n",
        "def variance(data):\n",
        "    return np.var(data)\n",
        "\n",
        "def std_dev(data):\n",
        "    return np.std(data)\n",
        "\n",
        "# (iv) Implement a function to compute the interquartile range (IQR) of a list of values.\n",
        "def interquartile_range(data):\n",
        "    q3, q1 = np.percentile(data, [75, 25])\n",
        "    return q3 - q1\n",
        "\n",
        "# (v) Build a program to calculate the coefficient of variation for a dataset.\n",
        "def coefficient_of_variation(data):\n",
        "    return (np.std(data) / np.mean(data)) * 100\n",
        "\n",
        "# (vi) Write a Python function to find the mean absolute deviation (MAD) of a list of numbers.\n",
        "def mean_absolute_deviation(data):\n",
        "    mean = np.mean(data)\n",
        "    return np.mean(np.abs(data - mean))\n",
        "\n",
        "# (vii) Create a program to calculate the quartile deviation of a list of values.\n",
        "def quartile_deviation(data):\n",
        "    q3, q1 = np.percentile(data, [75, 25])\n",
        "    return (q3 - q1) / 2\n",
        "\n",
        "# (viii) Implement a function to find the range-based coefficient of dispersion for a dataset.\n",
        "def range_coefficient_dispersion(data):\n",
        "    return (max(data) - min(data)) / (max(data) + min(data))\n",
        "\n",
        "# OUtputs -\n",
        "print(\"Range:\", data_range(int_list2))\n",
        "print(\"Variance:\", variance(int_list2))\n",
        "print(\"Standard Deviation:\", std_dev(int_list2))\n",
        "print(\"Interquartile Range (IQR):\", interquartile_range(int_list2))\n",
        "print(\"Coefficient of Variation (%):\", coefficient_of_variation(int_list2))\n",
        "print(\"Mean Absolute Deviation (MAD):\", mean_absolute_deviation(int_list2))\n",
        "print(\"Quartile Deviation:\", quartile_deviation(int_list2))\n",
        "print(\"Range-based Coefficient of Dispersion:\", range_coefficient_dispersion(int_list2))"
      ],
      "metadata": {
        "colab": {
          "base_uri": "https://localhost:8080/",
          "height": 543
        },
        "id": "YSuW7UoshPcw",
        "outputId": "26dcba53-b33a-47d3-f436-36dd26d215fa"
      },
      "execution_count": 12,
      "outputs": [
        {
          "output_type": "display_data",
          "data": {
            "text/plain": [
              "<Figure size 1800x500 with 3 Axes>"
            ],
            "image/png": "[encoded data removed]"
          },
          "metadata": {}
        },
        {
          "output_type": "stream",
          "name": "stdout",
          "text": [
            "Range: 100\n",
            "Variance: 761.6242239999999\n",
            "Standard Deviation: 27.5975401802407\n",
            "Interquartile Range (IQR): 44.25\n",
            "Coefficient of Variation (%): 11.013640644052384\n",
            "Mean Absolute Deviation (MAD): 23.436608\n",
            "Quartile Deviation: 22.125\n",
            "Range-based Coefficient of Dispersion: 0.2\n"
          ]
        }
      ]
    },
    {
      "cell_type": "code",
      "source": [
        "# Q3. Write a Python class representing a discrete random variable with methods to calculate its expected\n",
        "# value and variance\n",
        "\n",
        "import numpy as np\n",
        "\n",
        "# Define class for Discrete Random Variable\n",
        "class DiscreteRandomVariable:\n",
        "    def __init__(self, values, probabilities):\n",
        "        self.values = np.array(values)\n",
        "        self.probabilities = np.array(probabilities)\n",
        "\n",
        "    def expected_value(self):\n",
        "        return np.sum(self.values * self.probabilities)\n",
        "\n",
        "    def variance(self):\n",
        "        mean = self.expected_value()\n",
        "        return np.sum((self.values - mean) ** 2 * self.probabilities)\n",
        "\n",
        "# Example values and probabilities\n",
        "values = [1, 2, 3, 4, 5]\n",
        "probabilities = [0.1, 0.2, 0.3, 0.2, 0.2]\n",
        "\n",
        "# Create object and compute results\n",
        "drv = DiscreteRandomVariable(values, probabilities)\n",
        "expected_val = drv.expected_value()\n",
        "variance_val = drv.variance()\n",
        "\n",
        "# Print results\n",
        "print(\"Expected Value:\", expected_val)\n",
        "print(\"Variance:\", variance_val)"
      ],
      "metadata": {
        "colab": {
          "base_uri": "https://localhost:8080/"
        },
        "id": "PawyKlcziu2x",
        "outputId": "e5ae918e-a281-4e55-9422-21a8f470ea58"
      },
      "execution_count": 15,
      "outputs": [
        {
          "output_type": "stream",
          "name": "stdout",
          "text": [
            "Expected Value: 3.2\n",
            "Variance: 1.56\n"
          ]
        }
      ]
    },
    {
      "cell_type": "code",
      "source": [
        "# Q4.  Implement a program to simulate the rolling of a fair six-sided die and calculate the expected value and\n",
        "# variance of the outcomes.\n",
        "\n",
        "import numpy as np\n",
        "\n",
        "# Reuse the class from Q3\n",
        "class DiscreteRandomVariable:\n",
        "    def __init__(self, values, probabilities):\n",
        "        self.values = np.array(values)\n",
        "        self.probabilities = np.array(probabilities)\n",
        "\n",
        "    def expected_value(self):\n",
        "        return np.sum(self.values * self.probabilities)\n",
        "\n",
        "    def variance(self):\n",
        "        mean = self.expected_value()\n",
        "        return np.sum((self.values - mean) ** 2 * self.probabilities)\n",
        "\n",
        "# Define a fair six-sided die\n",
        "die_faces = [1, 2, 3, 4, 5, 6]\n",
        "probabilities = [1/6] * 6  # Equal probability for each face\n",
        "\n",
        "# Create the discrete random variable\n",
        "fair_die = DiscreteRandomVariable(die_faces, probabilities)\n",
        "\n",
        "# Compute expected value and variance\n",
        "expected_val = fair_die.expected_value()\n",
        "variance_val = fair_die.variance()\n",
        "\n",
        "# Print results\n",
        "print(\"Expected Value (Fair Die):\", expected_val)\n",
        "print(\"Variance (Fair Die):\", variance_val)"
      ],
      "metadata": {
        "colab": {
          "base_uri": "https://localhost:8080/"
        },
        "id": "1YtFiAqKjYW6",
        "outputId": "be0ac182-8faf-4971-bdf9-59a10b3c1736"
      },
      "execution_count": 16,
      "outputs": [
        {
          "output_type": "stream",
          "name": "stdout",
          "text": [
            "Expected Value (Fair Die): 3.5\n",
            "Variance (Fair Die): 2.9166666666666665\n"
          ]
        }
      ]
    },
    {
      "cell_type": "code",
      "source": [
        "# Q5. Create a Python function to generate random samples from a given probability distribution (e.g.,\n",
        "# binomial, Poisson) and calculate their mean and variance.\n",
        "\n",
        "import numpy as np\n",
        "\n",
        "# Function to generate samples from a distribution and compute mean and variance\n",
        "def generate_samples_and_stats(distribution='binomial', size=1000, **params):\n",
        "    if distribution == 'binomial':\n",
        "        samples = np.random.binomial(n=params.get('n', 10), p=params.get('p', 0.5), size=size)\n",
        "    elif distribution == 'poisson':\n",
        "        samples = np.random.poisson(lam=params.get('lam', 5), size=size)\n",
        "    else:\n",
        "        raise ValueError(\"Supported distributions: 'binomial', 'poisson'\")\n",
        "\n",
        "    mean_val = np.mean(samples)\n",
        "    var_val = np.var(samples)\n",
        "\n",
        "    return samples, mean_val, var_val\n",
        "\n",
        "# Example 1: Binomial Distribution (n=10, p=0.5)\n",
        "binomial_samples, bin_mean, bin_var = generate_samples_and_stats('binomial', n=10, p=0.5)\n",
        "\n",
        "# Example 2: Poisson Distribution (λ=5)\n",
        "poisson_samples, pois_mean, pois_var = generate_samples_and_stats('poisson', lam=5)\n",
        "\n",
        "# Print results\n",
        "print(\"Binomial Distribution (n=10, p=0.5):\")\n",
        "print(\"Mean:\", bin_mean)\n",
        "print(\"Variance:\", bin_var)\n",
        "\n",
        "print(\"\\nPoisson Distribution (λ=5):\")\n",
        "print(\"Mean:\", pois_mean)\n",
        "print(\"Variance:\", pois_var)"
      ],
      "metadata": {
        "colab": {
          "base_uri": "https://localhost:8080/"
        },
        "id": "jGuMUZ8ujhfZ",
        "outputId": "e4ef4dc7-8189-4e57-dd8f-693450185df7"
      },
      "execution_count": 17,
      "outputs": [
        {
          "output_type": "stream",
          "name": "stdout",
          "text": [
            "Binomial Distribution (n=10, p=0.5):\n",
            "Mean: 5.034\n",
            "Variance: 2.488844\n",
            "\n",
            "Poisson Distribution (λ=5):\n",
            "Mean: 5.02\n",
            "Variance: 4.9876000000000005\n"
          ]
        }
      ]
    },
    {
      "cell_type": "code",
      "source": [
        "# Q6. Write a Python script to generate random numbers from a Gaussian (normal) distribution and compute\n",
        "# the mean, variance, and standard deviation of the samples.\n",
        "\n",
        "import numpy as np\n",
        "\n",
        "# Generate random numbers from a normal distribution\n",
        "# Parameters: mean = 100, std_dev = 15, size = 1000\n",
        "samples = np.random.normal(loc=100, scale=15, size=1000)\n",
        "\n",
        "# Calculate statistics\n",
        "mean_val = np.mean(samples)\n",
        "variance_val = np.var(samples)\n",
        "std_dev_val = np.std(samples)\n",
        "\n",
        "# Print results\n",
        "print(\"Generated 1000 samples from N(100, 15^2)\")\n",
        "print(\"Mean:\", mean_val)\n",
        "print(\"Variance:\", variance_val)\n",
        "print(\"Standard Deviation:\", std_dev_val)"
      ],
      "metadata": {
        "colab": {
          "base_uri": "https://localhost:8080/"
        },
        "id": "lfbHcpBUjvMh",
        "outputId": "6618f8ed-93f3-4f7c-bbaf-0c39cffb5889"
      },
      "execution_count": 18,
      "outputs": [
        {
          "output_type": "stream",
          "name": "stdout",
          "text": [
            "Generated 1000 samples from N(100, 15^2)\n",
            "Mean: 100.3244700902434\n",
            "Variance: 246.51166770690529\n",
            "Standard Deviation: 15.700690039195898\n"
          ]
        }
      ]
    },
    {
      "cell_type": "code",
      "source": [
        "# Q7. Use seaborn library to load tips dataset. Find the following from the dataset for the columns total_bill\n",
        "# and tip`:\n",
        "\n",
        "import seaborn as sns\n",
        "import pandas as pd\n",
        "import numpy as np\n",
        "import matplotlib.pyplot as plt\n",
        "from scipy.stats import skew, pearsonr\n",
        "\n",
        "tips = sns.load_dataset(\"tips\") # Load the tips dataset\n",
        "\n",
        "total_bill = tips[\"total_bill\"]\n",
        "tip = tips[\"tip\"] # Extract relevant columns\n",
        "\n",
        "# (i) Write a Python function that calculates their skewness.\n",
        "\n",
        "def calculate_skewness(column):\n",
        "    return skew(column)\n",
        "\n",
        "skew_total_bill = calculate_skewness(total_bill)\n",
        "skew_tip = calculate_skewness(tip)\n",
        "\n",
        "print(f\"Skewness of total_bill: {skew_total_bill:.4f}\")\n",
        "print(f\"Skewness of tip: {skew_tip:.4f}\")\n",
        "\n",
        "# (ii) Create a program that determines whether the columns exhibit positive skewness, negative skewness, or is\n",
        "# approximately symmetric.\n",
        "\n",
        "def skew_type(value):\n",
        "    if value > 0:\n",
        "        return \"Positive Skew\"\n",
        "    elif value < 0:\n",
        "        return \"Negative Skew\"\n",
        "    else:\n",
        "        return \"Symmetric\"\n",
        "\n",
        "print(\"total_bill is:\", skew_type(skew_total_bill))\n",
        "print(\"tip is:\", skew_type(skew_tip))\n",
        "\n",
        "# (iii) Write a function that calculates the covariance between two columns.\n",
        "\n",
        "def calculate_covariance(x, y):\n",
        "    return np.cov(x, y)[0, 1]\n",
        "\n",
        "cov_val = calculate_covariance(total_bill, tip)\n",
        "print(\"Covariance between total_bill and tip:\", cov_val)\n",
        "\n",
        "# (iv) Implement a Python program that calculates the Pearson correlation coefficient between two columns.\n",
        "\n",
        "def calculate_pearson(x, y):\n",
        "    return pearsonr(x, y)[0]\n",
        "\n",
        "pearson_corr = calculate_pearson(total_bill, tip)\n",
        "print(\"Pearson Correlation Coefficient:\", pearson_corr)\n",
        "\n",
        "# (v) Write a script to visualize the correlation between two specific columns in a Pandas DataFrame using\n",
        "# scatter plots.\n",
        "\n",
        "plt.figure(figsize=(8, 5))\n",
        "sns.scatterplot(x=\"total_bill\", y=\"tip\", data=tips)\n",
        "plt.title(\"Scatter Plot: Total Bill vs Tip\")\n",
        "plt.xlabel(\"Total Bill\")\n",
        "plt.ylabel(\"Tip\")\n",
        "plt.grid(True)\n",
        "plt.show()"
      ],
      "metadata": {
        "colab": {
          "base_uri": "https://localhost:8080/",
          "height": 591
        },
        "id": "8wb7G_PUj91S",
        "outputId": "3f41182c-fdf9-4d6b-f293-50cead5ea7db"
      },
      "execution_count": 19,
      "outputs": [
        {
          "output_type": "stream",
          "name": "stdout",
          "text": [
            "Skewness of total_bill: 1.1262\n",
            "Skewness of tip: 1.4564\n",
            "total_bill is: Positive Skew\n",
            "tip is: Positive Skew\n",
            "Covariance between total_bill and tip: 8.323501629224854\n",
            "Pearson Correlation Coefficient: 0.6757341092113647\n"
          ]
        },
        {
          "output_type": "display_data",
          "data": {
            "text/plain": [
              "<Figure size 800x500 with 1 Axes>"
            ],
            "image/png": "[encoded data removed]"
          },
          "metadata": {}
        }
      ]
    },
    {
      "cell_type": "code",
      "source": [
        "# Q8. Write a Python function to calculate the probability density function (PDF) of a continuous random\n",
        "# variable for a given normal distribution.\n",
        "\n",
        "import numpy as np\n",
        "from statsmodels.stats.proportion import proportions_ztest\n",
        "\n",
        "# Old layout: 50 conversions out of 1000\n",
        "old_success = 50\n",
        "old_total = 1000\n",
        "\n",
        "# New layout: 70 conversions out of 1000\n",
        "new_success = 70\n",
        "new_total = 1000\n",
        "\n",
        "# Combine successes and totals\n",
        "successes = np.array([old_success, new_success])\n",
        "samples = np.array([old_total, new_total])\n",
        "\n",
        "# Perform one-tailed z-test (H1: new > old)\n",
        "stat, p_value = proportions_ztest(count=successes, nobs=samples, alternative='smaller')\n",
        "\n",
        "# Print results\n",
        "print(\"Z-statistic:\", stat)\n",
        "print(\"P-value:\", p_value)\n",
        "\n",
        "# Interpret result\n",
        "alpha = 0.05\n",
        "if p_value < alpha:\n",
        "    print(\"Reject null hypothesis: New layout has a significantly higher conversion rate.\")\n",
        "else:\n",
        "    print(\"Fail to reject null hypothesis: Not enough evidence that the new layout is better.\")\n"
      ],
      "metadata": {
        "colab": {
          "base_uri": "https://localhost:8080/"
        },
        "id": "S1fGwEyLk-Ta",
        "outputId": "fe679be1-81b4-4462-8edb-34d2af9efae6"
      },
      "execution_count": 21,
      "outputs": [
        {
          "output_type": "stream",
          "name": "stdout",
          "text": [
            "Z-statistic: -1.883108942886774\n",
            "P-value: 0.029842802766213112\n",
            "Reject null hypothesis: New layout has a significantly higher conversion rate.\n"
          ]
        }
      ]
    },
    {
      "cell_type": "code",
      "source": [
        "# Q9. Create a program to calculate the cumulative distribution function (CDF) of exponential distribution.\n",
        "\n",
        "import numpy as np\n",
        "from scipy.stats import norm\n",
        "\n",
        "# Scores before and after the program\n",
        "before_program = np.array([75, 80, 85, 70, 90, 78, 92, 88, 82, 87])\n",
        "after_program  = np.array([80, 85, 90, 80, 92, 80, 95, 90, 85, 88])\n",
        "\n",
        "# Calculate the difference (after - before)\n",
        "differences = after_program - before_program\n",
        "\n",
        "# Z-test on the differences\n",
        "mean_diff = np.mean(differences)\n",
        "std_diff = np.std(differences, ddof=1)  # sample std dev\n",
        "n = len(differences)\n",
        "se = std_diff / np.sqrt(n)\n",
        "\n",
        "# Compute z-score\n",
        "z_score = mean_diff / se\n",
        "\n",
        "# Compute p-value (one-tailed, checking if scores increased)\n",
        "p_value = 1 - norm.cdf(z_score)\n",
        "\n",
        "# Print results\n",
        "print(\"Mean of differences:\", mean_diff)\n",
        "print(\"Z-score:\", z_score)\n",
        "print(\"P-value:\", p_value)\n",
        "\n",
        "# Interpretation\n",
        "alpha = 0.05\n",
        "if p_value < alpha:\n",
        "    print(\"Reject null hypothesis: Scores improved significantly.\")\n",
        "else:\n",
        "    print(\"Fail to reject null hypothesis: No significant improvement found.\")"
      ],
      "metadata": {
        "colab": {
          "base_uri": "https://localhost:8080/"
        },
        "id": "QDhJZXuWlW16",
        "outputId": "74111cd9-def8-4c54-8c24-1a371a4beda7"
      },
      "execution_count": 22,
      "outputs": [
        {
          "output_type": "stream",
          "name": "stdout",
          "text": [
            "Mean of differences: 3.8\n",
            "Z-score: 4.593190894944668\n",
            "P-value: 2.182597052646784e-06\n",
            "Reject null hypothesis: Scores improved significantly.\n"
          ]
        }
      ]
    },
    {
      "cell_type": "code",
      "source": [
        "# Q10. Write a Python function to calculate the probability mass function (PMF) of Poisson distribution.\n",
        "\n",
        "import numpy as np\n",
        "from scipy.stats import norm\n",
        "\n",
        "# Blood pressure before and after drug\n",
        "before_drug = np.array([145, 150, 140, 135, 155, 160, 152, 148, 130, 138])\n",
        "after_drug  = np.array([130, 140, 132, 128, 145, 148, 138, 136, 125, 130])\n",
        "\n",
        "# Compute differences (before - after), positive means decrease\n",
        "differences = before_drug - after_drug\n",
        "\n",
        "# Z-test on the differences\n",
        "mean_diff = np.mean(differences)\n",
        "std_diff = np.std(differences, ddof=1)\n",
        "n = len(differences)\n",
        "se = std_diff / np.sqrt(n)\n",
        "\n",
        "# Compute z-score\n",
        "z_score = mean_diff / se\n",
        "\n",
        "# One-tailed p-value (testing if BP reduced)\n",
        "p_value = 1 - norm.cdf(z_score)\n",
        "\n",
        "# Display results\n",
        "print(\"Mean reduction in BP:\", mean_diff)\n",
        "print(\"Z-score:\", z_score)\n",
        "print(\"P-value:\", p_value)\n",
        "\n",
        "# Interpretation\n",
        "alpha = 0.05\n",
        "if p_value < alpha:\n",
        "    print(\"Reject null hypothesis: Drug significantly reduces blood pressure.\")\n",
        "else:\n",
        "    print(\"Fail to reject null hypothesis: Not enough evidence that the drug works.\")"
      ],
      "metadata": {
        "colab": {
          "base_uri": "https://localhost:8080/"
        },
        "id": "qHuhYUSHlnuT",
        "outputId": "62e2d5ed-9116-47e4-b25a-9c72e0ad456a"
      },
      "execution_count": 23,
      "outputs": [
        {
          "output_type": "stream",
          "name": "stdout",
          "text": [
            "Mean reduction in BP: 10.1\n",
            "Z-score: 10.049875621120888\n",
            "P-value: 0.0\n",
            "Reject null hypothesis: Drug significantly reduces blood pressure.\n"
          ]
        }
      ]
    },
    {
      "cell_type": "code",
      "source": [
        "# Q11. A company wants to test if a new website layout leads to a higher conversion rate (percentage of visitors\n",
        "# who make a purchase). They collect data from the old and new layouts to compare.\n",
        "\n",
        "import numpy as np\n",
        "from statsmodels.stats.proportion import proportions_ztest\n",
        "\n",
        "# Conversion data\n",
        "old_layout = np.array([1] * 50 + [0] * 950)  # 50 purchases out of 1000\n",
        "new_layout = np.array([1] * 70 + [0] * 930)  # 70 purchases out of 1000\n",
        "\n",
        "# Count successes and total observations\n",
        "successes = np.array([old_layout.sum(), new_layout.sum()])  # [50, 70]\n",
        "nobs = np.array([len(old_layout), len(new_layout)])         # [1000, 1000]\n",
        "\n",
        "# Perform z-test: H1 = new layout has higher conversion (so old < new)\n",
        "z_stat, p_value = proportions_ztest(count=successes, nobs=nobs, alternative='smaller')\n",
        "\n",
        "# Print the result\n",
        "print(\"Z-statistic:\", z_stat)\n",
        "print(\"P-value:\", p_value)\n",
        "\n",
        "# Interpretation\n",
        "alpha = 0.05\n",
        "if p_value < alpha:\n",
        "    print(\"The new layout is statistically more successful (higher conversion rate).\")\n",
        "else:\n",
        "    print(\"No significant evidence that the new layout is better.\")"
      ],
      "metadata": {
        "colab": {
          "base_uri": "https://localhost:8080/"
        },
        "id": "bWKIBag8mGhJ",
        "outputId": "75caf58e-d530-4600-f5a7-5c14ced3274c"
      },
      "execution_count": 24,
      "outputs": [
        {
          "output_type": "stream",
          "name": "stdout",
          "text": [
            "Z-statistic: -1.883108942886774\n",
            "P-value: 0.029842802766213112\n",
            "The new layout is statistically more successful (higher conversion rate).\n"
          ]
        }
      ]
    },
    {
      "cell_type": "code",
      "source": [
        "# Q12. A tutoring service claims that its program improves students' exam scores. A sample of students who\n",
        "# participated in the program was taken, and their scores before and after the program were recorded.\n",
        "\n",
        "import numpy as np\n",
        "from scipy.stats import norm\n",
        "\n",
        "# Scores before and after the tutoring program\n",
        "before_program = np.array([75, 80, 85, 70, 90, 78, 92, 88, 82, 87])\n",
        "after_program  = np.array([80, 85, 90, 80, 92, 80, 95, 90, 85, 88])\n",
        "\n",
        "# Compute differences (after - before)\n",
        "differences = after_program - before_program\n",
        "\n",
        "# Mean and standard deviation of the differences\n",
        "mean_diff = np.mean(differences)\n",
        "std_diff = np.std(differences, ddof=1)\n",
        "n = len(differences)\n",
        "se = std_diff / np.sqrt(n)\n",
        "\n",
        "# Z-score\n",
        "z_score = mean_diff / se\n",
        "\n",
        "# One-tailed p-value (checking if scores increased)\n",
        "p_value = 1 - norm.cdf(z_score)\n",
        "\n",
        "# Output results\n",
        "print(\"Mean Improvement:\", mean_diff)\n",
        "print(\"Z-Score:\", z_score)\n",
        "print(\"P-Value:\", p_value)\n",
        "\n",
        "# Interpretation\n",
        "alpha = 0.05\n",
        "if p_value < alpha:\n",
        "    print(\"The claim is supported: Scores improved significantly.\")\n",
        "else:\n",
        "    print(\"No significant improvement found: Claim not statistically proven.\")"
      ],
      "metadata": {
        "colab": {
          "base_uri": "https://localhost:8080/"
        },
        "id": "-2FB93rCm6mq",
        "outputId": "94057cc0-a6f6-4ed2-c714-7488955f6665"
      },
      "execution_count": 25,
      "outputs": [
        {
          "output_type": "stream",
          "name": "stdout",
          "text": [
            "Mean Improvement: 3.8\n",
            "Z-Score: 4.593190894944668\n",
            "P-Value: 2.182597052646784e-06\n",
            "The claim is supported: Scores improved significantly.\n"
          ]
        }
      ]
    },
    {
      "cell_type": "code",
      "source": [
        "# Q13. A pharmaceutical company wants to determine if a new drug is effective in reducing blood pressure. They\n",
        "# conduct a study and record blood pressure measurements before and after administering the drug.\n",
        "\n",
        "import numpy as np\n",
        "from scipy.stats import norm\n",
        "\n",
        "# Blood pressure before and after taking the drug\n",
        "before_drug = np.array([145, 150, 140, 135, 155, 160, 152, 148, 130, 138])\n",
        "after_drug  = np.array([130, 140, 132, 128, 145, 148, 138, 136, 125, 130])\n",
        "\n",
        "# Calculate the differences (before - after); positive = BP reduction\n",
        "differences = before_drug - after_drug\n",
        "\n",
        "# Compute statistics\n",
        "mean_diff = np.mean(differences)\n",
        "std_diff = np.std(differences, ddof=1)\n",
        "n = len(differences)\n",
        "se = std_diff / np.sqrt(n)\n",
        "\n",
        "# Z-score and p-value\n",
        "z_score = mean_diff / se\n",
        "p_value = 1 - norm.cdf(z_score)  # one-tailed test (mean_diff > 0)\n",
        "\n",
        "# Output results\n",
        "print(\"Mean BP Reduction:\", mean_diff)\n",
        "print(\"Z-Score:\", z_score)\n",
        "print(\"P-Value:\", p_value)\n",
        "\n",
        "# Conclusion\n",
        "alpha = 0.05\n",
        "if p_value < alpha:\n",
        "    print(\"The drug is effective: It significantly reduces blood pressure.\")\n",
        "else:\n",
        "    print(\"No significant reduction: The drug's effectiveness is not proven.\")"
      ],
      "metadata": {
        "colab": {
          "base_uri": "https://localhost:8080/"
        },
        "id": "cwrAyaqxnLzK",
        "outputId": "b110e238-7ad4-41d1-da41-e0a57a79f9dd"
      },
      "execution_count": 26,
      "outputs": [
        {
          "output_type": "stream",
          "name": "stdout",
          "text": [
            "Mean BP Reduction: 10.1\n",
            "Z-Score: 10.049875621120888\n",
            "P-Value: 0.0\n",
            "The drug is effective: It significantly reduces blood pressure.\n"
          ]
        }
      ]
    },
    {
      "cell_type": "code",
      "source": [
        "# Q14. A customer service department claims that their average response time is less than 5 minutes. A sample\n",
        "# of recent customer interactions was taken, and the response times were recorded.\n",
        "\n",
        "import numpy as np\n",
        "from scipy.stats import norm\n",
        "\n",
        "# Given response times\n",
        "response_times = np.array([4.3, 3.8, 5.1, 4.9, 4.7, 4.2, 5.2, 4.5, 4.6, 4.4])\n",
        "\n",
        "# Hypothesized population mean\n",
        "mu_0 = 5.0\n",
        "\n",
        "# Sample statistics\n",
        "sample_mean = np.mean(response_times)\n",
        "sample_std = np.std(response_times, ddof=1)\n",
        "n = len(response_times)\n",
        "se = sample_std / np.sqrt(n)\n",
        "\n",
        "# Compute z-score\n",
        "z_score = (sample_mean - mu_0) / se\n",
        "\n",
        "# One-tailed p-value (H1: mean < 5)\n",
        "p_value = norm.cdf(z_score)\n",
        "\n",
        "# Output results\n",
        "print(\"Sample Mean:\", sample_mean)\n",
        "print(\"Z-Score:\", z_score)\n",
        "print(\"P-Value:\", p_value)\n",
        "\n",
        "# Conclusion\n",
        "alpha = 0.05\n",
        "if p_value < alpha:\n",
        "    print(\"Claim is supported: Average response time is significantly less than 5 minutes.\")\n",
        "else:\n",
        "    print(\"Claim is not statistically supported.\")"
      ],
      "metadata": {
        "colab": {
          "base_uri": "https://localhost:8080/"
        },
        "id": "ZF18afZunZER",
        "outputId": "1fd165a6-ec05-4599-b820-29689d19388e"
      },
      "execution_count": 27,
      "outputs": [
        {
          "output_type": "stream",
          "name": "stdout",
          "text": [
            "Sample Mean: 4.57\n",
            "Z-Score: -3.184457226042963\n",
            "P-Value: 0.0007251287113068958\n",
            "Claim is supported: Average response time is significantly less than 5 minutes.\n"
          ]
        }
      ]
    },
    {
      "cell_type": "code",
      "source": [
        "# Q15. A company is testing two different website layouts to see which one leads to higher click-through rates.\n",
        "# Write a Python function to perform an A/B test analysis, including calculating the t-statistic, degrees of\n",
        "# freedom, and p-value.\n",
        "\n",
        "import numpy as np\n",
        "from scipy.stats import t\n",
        "\n",
        "# Click-through data\n",
        "layout_a_clicks = np.array([28, 32, 33, 29, 31, 34, 30, 35, 36, 37])\n",
        "layout_b_clicks = np.array([40, 41, 38, 42, 39, 44, 43, 41, 45, 47])\n",
        "\n",
        "# Compute sample means and standard deviations\n",
        "mean_a = np.mean(layout_a_clicks)\n",
        "mean_b = np.mean(layout_b_clicks)\n",
        "std_a = np.std(layout_a_clicks, ddof=1)\n",
        "std_b = np.std(layout_b_clicks, ddof=1)\n",
        "n_a = len(layout_a_clicks)\n",
        "n_b = len(layout_b_clicks)\n",
        "\n",
        "# Standard error\n",
        "se = np.sqrt((std_a**2 / n_a) + (std_b**2 / n_b))\n",
        "\n",
        "# T-statistic\n",
        "t_stat = (mean_b - mean_a) / se\n",
        "\n",
        "# Degrees of freedom using Welch–Satterthwaite equation\n",
        "df_num = (std_a**2 / n_a + std_b**2 / n_b) ** 2\n",
        "df_den = ((std_a**2 / n_a) ** 2) / (n_a - 1) + ((std_b**2 / n_b) ** 2) / (n_b - 1)\n",
        "df = df_num / df_den\n",
        "\n",
        "# One-tailed p-value (Layout B > Layout A)\n",
        "p_value = 1 - t.cdf(t_stat, df)\n",
        "\n",
        "# Output\n",
        "print(\"T-Statistic:\", t_stat)\n",
        "print(\"Degrees of Freedom:\", df)\n",
        "print(\"P-Value:\", p_value)\n",
        "\n",
        "# Conclusion\n",
        "alpha = 0.05\n",
        "if p_value < alpha:\n",
        "    print(\"Layout B is significantly better than Layout A (higher click-through rate).\")\n",
        "else:\n",
        "    print(\"No significant difference between Layout A and Layout B.\")"
      ],
      "metadata": {
        "colab": {
          "base_uri": "https://localhost:8080/"
        },
        "id": "SkSY11xZnk60",
        "outputId": "a478793c-dc62-43a2-b182-2f7381e12276"
      },
      "execution_count": 28,
      "outputs": [
        {
          "output_type": "stream",
          "name": "stdout",
          "text": [
            "T-Statistic: 7.298102156175071\n",
            "Degrees of Freedom: 17.879871863320876\n",
            "P-Value: 4.59829803567402e-07\n",
            "Layout B is significantly better than Layout A (higher click-through rate).\n"
          ]
        }
      ]
    },
    {
      "cell_type": "code",
      "source": [
        "# Q16. A pharmaceutical company wants to determine if a new drug is more effective than an existing drug in\n",
        "# reducing cholesterol levels. Create a program to analyze the clinical trial data and calculate the tstatistic\n",
        "# and p-value for the treatment effect.\n",
        "\n",
        "import numpy as np\n",
        "from scipy.stats import t\n",
        "\n",
        "# Cholesterol levels\n",
        "existing_drug_levels = np.array([180, 182, 175, 185, 178, 176, 172, 184, 179, 183])\n",
        "new_drug_levels = np.array([170, 172, 165, 168, 175, 173, 170, 178, 172, 176])\n",
        "\n",
        "# Compute statistics\n",
        "mean_existing = np.mean(existing_drug_levels)\n",
        "mean_new = np.mean(new_drug_levels)\n",
        "std_existing = np.std(existing_drug_levels, ddof=1)\n",
        "std_new = np.std(new_drug_levels, ddof=1)\n",
        "n1 = len(existing_drug_levels)\n",
        "n2 = len(new_drug_levels)\n",
        "\n",
        "# Standard error\n",
        "se = np.sqrt((std_existing**2 / n1) + (std_new**2 / n2))\n",
        "\n",
        "# T-statistic\n",
        "t_stat = (mean_existing - mean_new) / se\n",
        "\n",
        "# Degrees of freedom (Welch's t-test)\n",
        "df_numerator = (std_existing**2 / n1 + std_new**2 / n2)**2\n",
        "df_denominator = ((std_existing**2 / n1)**2) / (n1 - 1) + ((std_new**2 / n2)**2) / (n2 - 1)\n",
        "df = df_numerator / df_denominator\n",
        "\n",
        "# One-tailed p-value (checking if new drug < existing)\n",
        "p_value = 1 - t.cdf(t_stat, df)\n",
        "\n",
        "# Output results\n",
        "print(\"Mean (Existing Drug):\", mean_existing)\n",
        "print(\"Mean (New Drug):\", mean_new)\n",
        "print(\"T-Statistic:\", t_stat)\n",
        "print(\"Degrees of Freedom:\", df)\n",
        "print(\"P-Value:\", p_value)\n",
        "\n",
        "# Conclusion\n",
        "alpha = 0.05\n",
        "if p_value < alpha:\n",
        "    print(\"New drug is significantly more effective in reducing cholesterol.\")\n",
        "else:\n",
        "    print(\"No significant difference: Effectiveness not statistically proven.\")"
      ],
      "metadata": {
        "colab": {
          "base_uri": "https://localhost:8080/"
        },
        "id": "y--S6ViVsQC0",
        "outputId": "e2de7890-d1db-4413-a508-786f1819e513"
      },
      "execution_count": 29,
      "outputs": [
        {
          "output_type": "stream",
          "name": "stdout",
          "text": [
            "Mean (Existing Drug): 179.4\n",
            "Mean (New Drug): 171.9\n",
            "T-Statistic: 4.140480986208661\n",
            "Degrees of Freedom: 17.866770765582338\n",
            "P-Value: 0.0003114614472734534\n",
            "New drug is significantly more effective in reducing cholesterol.\n"
          ]
        }
      ]
    },
    {
      "cell_type": "code",
      "source": [
        "# Q17. A school district introduces an educational intervention program to improve math scores. Write a Python\n",
        "# function to analyze pre- and post-intervention test scores, calculating the t-statistic and p-value to\n",
        "# determine if the intervention had a significant impact.\n",
        "\n",
        "import numpy as np\n",
        "from scipy.stats import t\n",
        "\n",
        "# Test scores before and after intervention\n",
        "pre_intervention_scores = np.array([80, 85, 90, 75, 88, 82, 92, 78, 85, 87])\n",
        "post_intervention_scores = np.array([90, 92, 88, 92, 95, 91, 96, 93, 89, 93])\n",
        "\n",
        "# Calculate the differences (post - pre)\n",
        "differences = post_intervention_scores - pre_intervention_scores\n",
        "\n",
        "# Compute statistics\n",
        "mean_diff = np.mean(differences)\n",
        "std_diff = np.std(differences, ddof=1)\n",
        "n = len(differences)\n",
        "se = std_diff / np.sqrt(n)\n",
        "\n",
        "# T-statistic and p-value\n",
        "t_stat = mean_diff / se\n",
        "p_value = 1 - t.cdf(t_stat, df=n-1)  # one-tailed\n",
        "\n",
        "# Output\n",
        "print(\"Mean Improvement:\", mean_diff)\n",
        "print(\"T-Statistic:\", t_stat)\n",
        "print(\"Degrees of Freedom:\", n - 1)\n",
        "print(\"P-Value:\", p_value)\n",
        "\n",
        "# Conclusion\n",
        "alpha = 0.05\n",
        "if p_value < alpha:\n",
        "    print(\"The intervention significantly improved math scores.\")\n",
        "else:\n",
        "    print(\"No statistically significant improvement detected.\")"
      ],
      "metadata": {
        "colab": {
          "base_uri": "https://localhost:8080/"
        },
        "id": "UwTTjCmQsk-S",
        "outputId": "afe90cd9-b22c-4ef0-d33a-cb8a71b0d14f"
      },
      "execution_count": 30,
      "outputs": [
        {
          "output_type": "stream",
          "name": "stdout",
          "text": [
            "Mean Improvement: 7.7\n",
            "T-Statistic: 4.428408839657611\n",
            "Degrees of Freedom: 9\n",
            "P-Value: 0.0008254774082897542\n",
            "The intervention significantly improved math scores.\n"
          ]
        }
      ]
    },
    {
      "cell_type": "code",
      "source": [
        "# Q18. An HR department wants to investigate if there's a gender-based salary gap within the company. Develop\n",
        "# a program to analyze salary data, calculate the t-statistic, and determine if there's a statistically\n",
        "# significant difference between the average salaries of male and female employees.\n",
        "\n",
        "import numpy as np\n",
        "from scipy.stats import t\n",
        "\n",
        "# Generate synthetic salary data\n",
        "np.random.seed(0)  # For reproducibility\n",
        "male_salaries = np.random.normal(loc=50000, scale=10000, size=20)\n",
        "female_salaries = np.random.normal(loc=55000, scale=9000, size=20)\n",
        "\n",
        "# Compute sample statistics\n",
        "mean_male = np.mean(male_salaries)\n",
        "mean_female = np.mean(female_salaries)\n",
        "std_male = np.std(male_salaries, ddof=1)\n",
        "std_female = np.std(female_salaries, ddof=1)\n",
        "n1 = len(male_salaries)\n",
        "n2 = len(female_salaries)\n",
        "\n",
        "# Standard error\n",
        "se = np.sqrt((std_male**2 / n1) + (std_female**2 / n2))\n",
        "\n",
        "# T-statistic\n",
        "t_stat = (mean_male - mean_female) / se\n",
        "\n",
        "# Degrees of freedom (Welch's t-test)\n",
        "df_num = (std_male**2 / n1 + std_female**2 / n2)**2\n",
        "df_den = ((std_male**2 / n1)**2) / (n1 - 1) + ((std_female**2 / n2)**2) / (n2 - 1)\n",
        "df = df_num / df_den\n",
        "\n",
        "# Two-tailed p-value\n",
        "p_value = 2 * (1 - t.cdf(abs(t_stat), df))\n",
        "\n",
        "# Output\n",
        "print(\"Mean Salary (Male):\", mean_male)\n",
        "print(\"Mean Salary (Female):\", mean_female)\n",
        "print(\"T-Statistic:\", t_stat)\n",
        "print(\"Degrees of Freedom:\", df)\n",
        "print(\"P-Value:\", p_value)\n",
        "\n",
        "# Conclusion\n",
        "alpha = 0.05\n",
        "if p_value < alpha:\n",
        "    print(\"There is a statistically significant gender-based salary gap.\")\n",
        "else:\n",
        "    print(\"No statistically significant difference in average salaries.\")"
      ],
      "metadata": {
        "colab": {
          "base_uri": "https://localhost:8080/"
        },
        "id": "xb1F5qWss9Tt",
        "outputId": "25a8b9bd-b6d9-4380-f9dc-222b154d47e2"
      },
      "execution_count": 31,
      "outputs": [
        {
          "output_type": "stream",
          "name": "stdout",
          "text": [
            "Mean Salary (Male): 55693.345929456365\n",
            "Mean Salary (Female): 55501.753181380416\n",
            "T-Statistic: 0.061142089696313844\n",
            "Degrees of Freedom: 36.166783312917644\n",
            "P-Value: 0.9515826849267925\n",
            "No statistically significant difference in average salaries.\n"
          ]
        }
      ]
    },
    {
      "cell_type": "code",
      "source": [
        "# Q19. A manufacturer produces two different versions of a product and wants to compare their quality scores.\n",
        "# Create a Python function to analyze quality assessment data, calculate the t-statistic, and decide\n",
        "# whether there's a significant difference in quality between the two versions.\n",
        "\n",
        "import numpy as np\n",
        "from scipy.stats import t\n",
        "\n",
        "# Quality scores for two versions\n",
        "version1_scores = np.array([85, 88, 82, 89, 87, 84, 90, 88, 85, 86, 91, 83, 87, 84, 89, 86, 84, 88, 85, 86, 89, 90, 87, 88, 85])\n",
        "version2_scores = np.array([80, 78, 83, 81, 79, 82, 76, 80, 78, 81, 77, 82, 80, 79, 82, 79, 80, 81, 79, 82, 79, 78, 80, 81, 82])\n",
        "\n",
        "# Calculate means and std devs\n",
        "mean1 = np.mean(version1_scores)\n",
        "mean2 = np.mean(version2_scores)\n",
        "std1 = np.std(version1_scores, ddof=1)\n",
        "std2 = np.std(version2_scores, ddof=1)\n",
        "n1 = len(version1_scores)\n",
        "n2 = len(version2_scores)\n",
        "\n",
        "# Calculate standard error\n",
        "se = np.sqrt((std1**2 / n1) + (std2**2 / n2))\n",
        "\n",
        "# T-statistic\n",
        "t_stat = (mean1 - mean2) / se\n",
        "\n",
        "# Degrees of freedom (Welch's method)\n",
        "df_num = (std1**2 / n1 + std2**2 / n2) ** 2\n",
        "df_den = ((std1**2 / n1)**2 / (n1 - 1)) + ((std2**2 / n2)**2 / (n2 - 1))\n",
        "df = df_num / df_den\n",
        "\n",
        "# Two-tailed p-value\n",
        "p_value = 2 * (1 - t.cdf(abs(t_stat), df))\n",
        "\n",
        "# Output\n",
        "print(\"Mean (Version 1):\", mean1)\n",
        "print(\"Mean (Version 2):\", mean2)\n",
        "print(\"T-statistic:\", t_stat)\n",
        "print(\"Degrees of Freedom:\", df)\n",
        "print(\"P-value:\", p_value)\n",
        "\n",
        "# Interpretation\n",
        "alpha = 0.05\n",
        "if p_value < alpha:\n",
        "    print(\"Statistically significant difference in product quality.\")\n",
        "else:\n",
        "    print(\"No significant difference in product quality.\")"
      ],
      "metadata": {
        "colab": {
          "base_uri": "https://localhost:8080/"
        },
        "id": "l8u6jy0FtPFC",
        "outputId": "e5f75207-adea-437b-9237-1f4b88e31d78"
      },
      "execution_count": 32,
      "outputs": [
        {
          "output_type": "stream",
          "name": "stdout",
          "text": [
            "Mean (Version 1): 86.64\n",
            "Mean (Version 2): 79.96\n",
            "T-statistic: 11.325830417646698\n",
            "Degrees of Freedom: 44.47061033283036\n",
            "P-value: 1.0658141036401503e-14\n",
            "Statistically significant difference in product quality.\n"
          ]
        }
      ]
    },
    {
      "cell_type": "code",
      "source": [
        "# Q20. A restaurant chain collects customer satisfaction scores for two different branches. Write a program to\n",
        "# analyze the scores, calculate the t-statistic, and determine if there's a statistically significant difference in\n",
        "# customer satisfaction between the branches.\n",
        "\n",
        "import numpy as np\n",
        "from scipy.stats import t\n",
        "\n",
        "# Customer satisfaction scores\n",
        "branch_a_scores = np.array([4, 5, 3, 4, 5, 4, 5, 3, 4, 4, 5, 4, 4, 3, 4, 5, 5, 4, 3, 4, 5, 4, 3, 5, 4, 4, 5, 3, 4, 5, 4])\n",
        "branch_b_scores = np.array([3, 4, 2, 3, 4, 3, 4, 2, 3, 3, 4, 3, 3, 2, 3, 4, 4, 3, 2, 3, 4, 3, 2, 4, 3, 3, 4, 2, 3, 4, 3])\n",
        "\n",
        "# Calculate means and standard deviations\n",
        "mean_a = np.mean(branch_a_scores)\n",
        "mean_b = np.mean(branch_b_scores)\n",
        "std_a = np.std(branch_a_scores, ddof=1)\n",
        "std_b = np.std(branch_b_scores, ddof=1)\n",
        "n1 = len(branch_a_scores)\n",
        "n2 = len(branch_b_scores)\n",
        "\n",
        "# Standard error\n",
        "se = np.sqrt((std_a**2 / n1) + (std_b**2 / n2))\n",
        "\n",
        "# T-statistic\n",
        "t_stat = (mean_a - mean_b) / se\n",
        "\n",
        "# Degrees of freedom using Welch's method\n",
        "df_numerator = (std_a**2 / n1 + std_b**2 / n2)**2\n",
        "df_denominator = ((std_a**2 / n1)**2) / (n1 - 1) + ((std_b**2 / n2)**2) / (n2 - 1)\n",
        "df = df_numerator / df_denominator\n",
        "\n",
        "# Two-tailed p-value\n",
        "p_value = 2 * (1 - t.cdf(abs(t_stat), df))\n",
        "\n",
        "# Output\n",
        "print(\"Mean Satisfaction (Branch A):\", mean_a)\n",
        "print(\"Mean Satisfaction (Branch B):\", mean_b)\n",
        "print(\"T-Statistic:\", t_stat)\n",
        "print(\"Degrees of Freedom:\", df)\n",
        "print(\"P-Value:\", p_value)\n",
        "\n",
        "# Interpretation\n",
        "alpha = 0.05\n",
        "if p_value < alpha:\n",
        "    print(\"Significant difference in customer satisfaction between the branches.\")\n",
        "else:\n",
        "    print(\"No significant difference in customer satisfaction.\")"
      ],
      "metadata": {
        "colab": {
          "base_uri": "https://localhost:8080/"
        },
        "id": "RxW0bJehtbg0",
        "outputId": "6f46b80c-cc68-45c3-9dea-b41145eba644"
      },
      "execution_count": 33,
      "outputs": [
        {
          "output_type": "stream",
          "name": "stdout",
          "text": [
            "Mean Satisfaction (Branch A): 4.129032258064516\n",
            "Mean Satisfaction (Branch B): 3.129032258064516\n",
            "T-Statistic: 5.480077554195743\n",
            "Degrees of Freedom: 60.0\n",
            "P-Value: 8.895290508625919e-07\n",
            "Significant difference in customer satisfaction between the branches.\n"
          ]
        }
      ]
    },
    {
      "cell_type": "code",
      "source": [
        "# Q21. A political analyst wants to determine if there is a significant association between age groups and voter\n",
        "# preferences (Candidate A or Candidate B). They collect data from a sample of 500 voters and classify\n",
        "# them into different age groups and candidate preferences. Perform a Chi-Square test to determine if\n",
        "# there is a significant association between age groups and voter preferences.\n",
        "\n",
        "import numpy as np\n",
        "import pandas as pd\n",
        "from scipy.stats import chi2_contingency\n",
        "\n",
        "# Generate categorical data\n",
        "np.random.seed(0)\n",
        "age_groups = np.random.choice(['18-30', '31-50', '51+'], size=30)\n",
        "voter_preferences = np.random.choice(['Candidate A', 'Candidate B'], size=30)\n",
        "\n",
        "# Create a DataFrame\n",
        "data = pd.DataFrame({\n",
        "    'Age Group': age_groups,\n",
        "    'Preference': voter_preferences\n",
        "})\n",
        "\n",
        "# Create a contingency table\n",
        "contingency_table = pd.crosstab(data['Age Group'], data['Preference'])\n",
        "\n",
        "# Perform Chi-Square Test of Independence\n",
        "chi2, p, dof, expected = chi2_contingency(contingency_table)\n",
        "\n",
        "# Output\n",
        "print(\"Contingency Table:\\n\", contingency_table)\n",
        "print(\"\\nChi-Square Statistic:\", chi2)\n",
        "print(\"Degrees of Freedom:\", dof)\n",
        "print(\"P-Value:\", p)\n",
        "\n",
        "# Interpretation\n",
        "alpha = 0.05\n",
        "if p < alpha:\n",
        "    print(\"There is a significant association between age group and voter preference.\")\n",
        "else:\n",
        "    print(\"No significant association between age group and voter preference.\")"
      ],
      "metadata": {
        "colab": {
          "base_uri": "https://localhost:8080/"
        },
        "id": "CNd39LSWtojz",
        "outputId": "5ed35ffc-73b6-4d1d-f4eb-044b6ad9e40c"
      },
      "execution_count": 34,
      "outputs": [
        {
          "output_type": "stream",
          "name": "stdout",
          "text": [
            "Contingency Table:\n",
            " Preference  Candidate A  Candidate B\n",
            "Age Group                           \n",
            "18-30                 4            8\n",
            "31-50                 6            5\n",
            "51+                   4            3\n",
            "\n",
            "Chi-Square Statistic: 1.4401669758812612\n",
            "Degrees of Freedom: 2\n",
            "P-Value: 0.48671161971286614\n",
            "No significant association between age group and voter preference.\n"
          ]
        }
      ]
    },
    {
      "cell_type": "code",
      "source": [
        "# Q22. A company conducted a customer satisfaction survey to determine if there is a significant relationship\n",
        "# between product satisfaction levels (Satisfied, Neutral, Dissatisfied) and the region where customers are\n",
        "# located (East, West, North, South). The survey data is summarized in a contingency table. Conduct a ChiSquare\n",
        "# test to determine if there is a significant relationship between product satisfaction levels and customer regions.\n",
        "\n",
        "import numpy as np\n",
        "import pandas as pd\n",
        "from scipy.stats import chi2_contingency\n",
        "\n",
        "# Sample data: satisfaction levels (rows) × regions (columns)\n",
        "data = np.array([\n",
        "    [50, 30, 40, 20],  # Satisfied\n",
        "    [30, 40, 30, 50],  # Neutral\n",
        "    [20, 30, 40, 30]   # Dissatisfied\n",
        "])\n",
        "\n",
        "# Optional: add labels for readability\n",
        "satisfaction_levels = ['Satisfied', 'Neutral', 'Dissatisfied']\n",
        "regions = ['East', 'West', 'North', 'South']\n",
        "\n",
        "# Create a DataFrame for display\n",
        "df = pd.DataFrame(data, index=satisfaction_levels, columns=regions)\n",
        "\n",
        "# Perform Chi-Square test\n",
        "chi2, p_value, dof, expected = chi2_contingency(data)\n",
        "\n",
        "# Output\n",
        "print(\"Contingency Table:\\n\", df)\n",
        "print(\"\\nChi-Square Statistic:\", chi2)\n",
        "print(\"Degrees of Freedom:\", dof)\n",
        "print(\"P-Value:\", p_value)\n",
        "\n",
        "# Interpretation\n",
        "alpha = 0.05\n",
        "if p_value < alpha:\n",
        "    print(\"Significant relationship between satisfaction and region.\")\n",
        "else:\n",
        "    print(\"No significant relationship between satisfaction and region.\")"
      ],
      "metadata": {
        "colab": {
          "base_uri": "https://localhost:8080/"
        },
        "id": "LmTkDOvYt1a8",
        "outputId": "9d601cf9-8bda-431a-db1e-5a0a677443cd"
      },
      "execution_count": 35,
      "outputs": [
        {
          "output_type": "stream",
          "name": "stdout",
          "text": [
            "Contingency Table:\n",
            "               East  West  North  South\n",
            "Satisfied       50    30     40     20\n",
            "Neutral         30    40     30     50\n",
            "Dissatisfied    20    30     40     30\n",
            "\n",
            "Chi-Square Statistic: 27.777056277056275\n",
            "Degrees of Freedom: 6\n",
            "P-Value: 0.00010349448486004387\n",
            "Significant relationship between satisfaction and region.\n"
          ]
        }
      ]
    },
    {
      "cell_type": "code",
      "source": [
        "# 23. A company implemented an employee training program to improve job performance (Effective, Neutral,\n",
        "# Ineffective). After the training, they collected data from a sample of employees and classified them based\n",
        "# on their job performance before and after the training. Perform a Chi-Square test to determine if there is a\n",
        "# significant difference between job performance levels before and after the training.\n",
        "\n",
        "import numpy as np\n",
        "import pandas as pd\n",
        "from scipy.stats import chi2_contingency\n",
        "\n",
        "# Sample data: job performance (rows = before, columns = after)\n",
        "data = np.array([\n",
        "    [50, 30, 20],  # Effective before\n",
        "    [30, 40, 30],  # Neutral before\n",
        "    [20, 30, 40]   # Ineffective before\n",
        "])\n",
        "\n",
        "# Optional labels for readability\n",
        "before_labels = ['Effective (Before)', 'Neutral (Before)', 'Ineffective (Before)']\n",
        "after_labels = ['Effective (After)', 'Neutral (After)', 'Ineffective (After)']\n",
        "\n",
        "# Convert to DataFrame\n",
        "df = pd.DataFrame(data, index=before_labels, columns=after_labels)\n",
        "\n",
        "# Perform Chi-Square Test of Independence\n",
        "chi2, p_value, dof, expected = chi2_contingency(data)\n",
        "\n",
        "# Output\n",
        "print(\"Contingency Table:\\n\", df)\n",
        "print(\"\\nChi-Square Statistic:\", chi2)\n",
        "print(\"Degrees of Freedom:\", dof)\n",
        "print(\"P-Value:\", p_value)\n",
        "\n",
        "# Interpretation\n",
        "alpha = 0.05\n",
        "if p_value < alpha:\n",
        "    print(\"Significant difference: Training impacted job performance.\")\n",
        "else:\n",
        "    print(\"No significant difference: Training effect not statistically proven.\")"
      ],
      "metadata": {
        "colab": {
          "base_uri": "https://localhost:8080/"
        },
        "id": "NNxDquTfuKGl",
        "outputId": "827081cd-fb9a-4ff0-e09b-8a687c5e8da4"
      },
      "execution_count": 36,
      "outputs": [
        {
          "output_type": "stream",
          "name": "stdout",
          "text": [
            "Contingency Table:\n",
            "                       Effective (After)  Neutral (After)  Ineffective (After)\n",
            "Effective (Before)                   50               30                   20\n",
            "Neutral (Before)                     30               40                   30\n",
            "Ineffective (Before)                 20               30                   40\n",
            "\n",
            "Chi-Square Statistic: 22.161728395061726\n",
            "Degrees of Freedom: 4\n",
            "P-Value: 0.00018609719479882557\n",
            "Significant difference: Training impacted job performance.\n"
          ]
        }
      ]
    },
    {
      "cell_type": "code",
      "source": [
        "# Q24. A company produces three different versions of a product: Standard, Premium, and Deluxe. The\n",
        "# company wants to determine if there is a significant difference in customer satisfaction scores among the\n",
        "# three product versions. They conducted a survey and collected customer satisfaction scores for each\n",
        "# version from a random sample of customers. Perform an ANOVA test to determine if there is a significant\n",
        "# difference in customer satisfaction scores.\n",
        "\n",
        "import numpy as np\n",
        "from scipy.stats import f_oneway\n",
        "\n",
        "# Satisfaction scores for each product version\n",
        "standard_scores = [80, 85, 90, 78, 88, 82, 92, 78, 85, 87]\n",
        "premium_scores  = [90, 92, 88, 92, 95, 91, 96, 93, 89, 93]\n",
        "deluxe_scores   = [95, 98, 92, 97, 96, 94, 98, 97, 92, 99]\n",
        "\n",
        "# Perform one-way ANOVA\n",
        "f_stat, p_value = f_oneway(standard_scores, premium_scores, deluxe_scores)\n",
        "\n",
        "# Output results\n",
        "print(\"F-Statistic:\", f_stat)\n",
        "print(\"P-Value:\", p_value)\n",
        "\n",
        "# Interpretation\n",
        "alpha = 0.05\n",
        "if p_value < alpha:\n",
        "    print(\"Significant difference in satisfaction scores among product versions.\")\n",
        "else:\n",
        "    print(\"No significant difference in satisfaction scores.\")"
      ],
      "metadata": {
        "colab": {
          "base_uri": "https://localhost:8080/"
        },
        "id": "Neart6MeuXKl",
        "outputId": "8b467be2-0628-446f-868b-a22ddf1ee088"
      },
      "execution_count": 37,
      "outputs": [
        {
          "output_type": "stream",
          "name": "stdout",
          "text": [
            "F-Statistic: 27.035562310030414\n",
            "P-Value: 3.57863288573486e-07\n",
            "Significant difference in satisfaction scores among product versions.\n"
          ]
        }
      ]
    }
  ]
}