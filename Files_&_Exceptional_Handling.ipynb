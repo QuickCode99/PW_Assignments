{
  "nbformat": 4,
  "nbformat_minor": 0,
  "metadata": {
    "colab": {
      "provenance": []
    },
    "kernelspec": {
      "name": "python3",
      "display_name": "Python 3"
    },
    "language_info": {
      "name": "python"
    }
  },
  "cells": [
    {
      "cell_type": "markdown",
      "source": [
        "Q1. **Discuss the scenarios where multithreading is preferable to multiprocessing and scenarios where multiprocessing is a better choice.**\n",
        "\n",
        "Answer -\n",
        "\n",
        "Multithreading is preferable when:\n",
        "\n",
        "* Tasks are I/O-bound (e.g., file operations, network requests).\n",
        "\n",
        "* Tasks involve waiting, not CPU-intensive computations.\n",
        "\n",
        "* Lower memory overhead is desirable.\n",
        "\n",
        "Multiprocessing is better when:\n",
        "\n",
        "* Tasks are CPU-bound (e.g., mathematical computations, image processing).\n",
        "\n",
        "* The GIL (Global Interpreter Lock) becomes a bottleneck.\n",
        "\n",
        "* Parallel execution of code across multiple cores is needed.\n",
        "\n",
        "Q2. **Describe what a process pool is and how it helps in managing multiple processes efficiently.**\n",
        "\n",
        "Answer -\n",
        "\n",
        "A process pool is a collection of worker processes. It allows you to manage a pool of processes to perform computations in parallel. Instead of creating and destroying processes for each task, the pool reuses them, making it efficient and scalable.\n",
        "\n",
        "Q3. **Explain what multiprocessing is and why it is used in Python programs.**\n",
        "\n",
        "Answer -\n",
        "\n",
        "Multiprocessing is a module in Python that allows programs to create multiple processes, bypassing the GIL and allowing true parallelism. It is used to speed up CPU-bound tasks, isolate processes for stability, and improve performance on multicore systems."
      ],
      "metadata": {
        "id": "fI9t8SGOyHvM"
      }
    },
    {
      "cell_type": "code",
      "source": [
        "# Q4. Write a Python program using multithreading where one thread adds numbers to a list, and another\n",
        "# thread removes numbers from the list. Implement a mechanism to avoid race conditions using\n",
        "# threading.Lock.\n",
        "\n",
        "import threading\n",
        "import time\n",
        "\n",
        "shared_list = []\n",
        "lock = threading.Lock()\n",
        "\n",
        "def add_numbers():\n",
        "    for i in range(5):\n",
        "        with lock:\n",
        "            shared_list.append(i)\n",
        "            print(f\"Added {i}\")\n",
        "        time.sleep(0.1)\n",
        "\n",
        "def remove_numbers():\n",
        "    for _ in range(5):\n",
        "        with lock:\n",
        "            if shared_list:\n",
        "                removed = shared_list.pop(0)\n",
        "                print(f\"Removed {removed}\")\n",
        "        time.sleep(0.15)\n",
        "\n",
        "t1 = threading.Thread(target=add_numbers)\n",
        "t2 = threading.Thread(target=remove_numbers)\n",
        "\n",
        "t1.start()\n",
        "t2.start()\n",
        "t1.join()\n",
        "t2.join()\n",
        "\n",
        "print(\"Final list:\", shared_list)"
      ],
      "metadata": {
        "colab": {
          "base_uri": "https://localhost:8080/"
        },
        "id": "GGah8w_4zlFd",
        "outputId": "82a1a081-13de-4967-d297-697ca9e39de0"
      },
      "execution_count": 1,
      "outputs": [
        {
          "output_type": "stream",
          "name": "stdout",
          "text": [
            "Added 0\n",
            "Removed 0\n",
            "Added 1\n",
            "Removed 1\n",
            "Added 2\n",
            "Removed 2\n",
            "Added 3\n",
            "Added 4\n",
            "Removed 3\n",
            "Removed 4\n",
            "Final list: []\n"
          ]
        }
      ]
    },
    {
      "cell_type": "markdown",
      "source": [
        "Q5. **Describe the methods and tools available in Python for safely sharing data between threads and processes.**\n",
        "\n",
        "Answer -\n",
        "\n",
        "**Safe Data Sharing Tools in Python**\n",
        "\n",
        "For Threads:\n",
        "\n",
        "* threading.Lock\n",
        "\n",
        "* threading.RLock\n",
        "\n",
        "* queue.Queue (thread-safe)\n",
        "\n",
        "For Processes:\n",
        "\n",
        "* multiprocessing.Queue\n",
        "\n",
        "* multiprocessing.Manager\n",
        "\n",
        "* multiprocessing.Value and multiprocessing.Array\n",
        "\n",
        "Q6. **Discuss why it’s crucial to handle exceptions in concurrent programs and the techniques available for doing so.**\n",
        "\n",
        "Answer -\n",
        "\n",
        "**Handling Exceptions in Concurrent Programs**\n",
        "\n",
        "Why it’s important:\n",
        "\n",
        "* Exceptions in threads/processes may not propagate to the main thread.\n",
        "\n",
        "* Can cause silent failures or deadlocks.\n",
        "\n",
        "Techniques:\n",
        "\n",
        "* Wrap tasks in try-except blocks.\n",
        "\n",
        "* Use concurrent.futures which propagates exceptions.\n",
        "\n",
        "* Use logging or shared structures to capture errors."
      ],
      "metadata": {
        "id": "SQnpktW3z0VD"
      }
    },
    {
      "cell_type": "code",
      "source": [
        "# Q7. Create a program that uses a thread pool to calculate the factorial of numbers from 1 to 10 concurrently.\n",
        "# Use concurrent.futures.ThreadPoolExecutor to manage the threads.\n",
        "\n",
        "from concurrent.futures import ThreadPoolExecutor\n",
        "import math\n",
        "\n",
        "def compute_factorial(n):\n",
        "    return (n, math.factorial(n))\n",
        "\n",
        "with ThreadPoolExecutor() as executor:\n",
        "    results = executor.map(compute_factorial, range(1, 11))\n",
        "\n",
        "for num, fact in results:\n",
        "    print(f\"Factorial of {num} is {fact}\")"
      ],
      "metadata": {
        "colab": {
          "base_uri": "https://localhost:8080/"
        },
        "id": "OYJG1VQ-0jSN",
        "outputId": "662ce205-81c0-4e0d-f177-d06320ca626d"
      },
      "execution_count": 2,
      "outputs": [
        {
          "output_type": "stream",
          "name": "stdout",
          "text": [
            "Factorial of 1 is 1\n",
            "Factorial of 2 is 2\n",
            "Factorial of 3 is 6\n",
            "Factorial of 4 is 24\n",
            "Factorial of 5 is 120\n",
            "Factorial of 6 is 720\n",
            "Factorial of 7 is 5040\n",
            "Factorial of 8 is 40320\n",
            "Factorial of 9 is 362880\n",
            "Factorial of 10 is 3628800\n"
          ]
        }
      ]
    },
    {
      "cell_type": "code",
      "source": [
        "# Q8. Create a Python program that uses multiprocessing.Pool to compute the square of numbers from 1 to 10 in\n",
        "# parallel. Measure the time taken to perform this computation using a pool of different sizes (e.g., 2, 4, 8\n",
        "# processes).\n",
        "\n",
        "from multiprocessing import Pool\n",
        "import time\n",
        "\n",
        "def square(n):\n",
        "    return n * n\n",
        "\n",
        "numbers = list(range(1, 11))\n",
        "pool_sizes = [2, 4, 8]\n",
        "\n",
        "for size in pool_sizes:\n",
        "    start = time.time()\n",
        "    with Pool(processes=size) as pool:\n",
        "        results = pool.map(square, numbers)\n",
        "    end = time.time()\n",
        "    print(f\"Pool Size: {size}, Time Taken: {end - start:.4f}s, Results: {results}\")"
      ],
      "metadata": {
        "colab": {
          "base_uri": "https://localhost:8080/"
        },
        "id": "BlTzJl2f0t6s",
        "outputId": "e3dfc822-e9f5-4b22-9f53-9bacc328505c"
      },
      "execution_count": 3,
      "outputs": [
        {
          "output_type": "stream",
          "name": "stdout",
          "text": [
            "Pool Size: 2, Time Taken: 0.0309s, Results: [1, 4, 9, 16, 25, 36, 49, 64, 81, 100]\n",
            "Pool Size: 4, Time Taken: 0.0573s, Results: [1, 4, 9, 16, 25, 36, 49, 64, 81, 100]\n",
            "Pool Size: 8, Time Taken: 0.0864s, Results: [1, 4, 9, 16, 25, 36, 49, 64, 81, 100]\n"
          ]
        }
      ]
    }
  ]
}