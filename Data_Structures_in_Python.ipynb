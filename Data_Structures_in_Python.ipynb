{
  "nbformat": 4,
  "nbformat_minor": 0,
  "metadata": {
    "colab": {
      "provenance": []
    },
    "kernelspec": {
      "name": "python3",
      "display_name": "Python 3"
    },
    "language_info": {
      "name": "python"
    }
  },
  "cells": [
    {
      "cell_type": "code",
      "execution_count": 2,
      "metadata": {
        "colab": {
          "base_uri": "https://localhost:8080/",
          "height": 0
        },
        "id": "0cWPE8efQMZo",
        "outputId": "eab6d341-ef6d-41b2-b5e8-c3aea7854440"
      },
      "outputs": [
        {
          "output_type": "stream",
          "name": "stdout",
          "text": [
            "olleh\n"
          ]
        }
      ],
      "source": [
        "#1. Write a code to reverse a string.\n",
        "\n",
        "def reverse_string(s):\n",
        "    return s[::-1]\n",
        "\n",
        "print(reverse_string(\"hello\"))"
      ]
    },
    {
      "cell_type": "code",
      "source": [
        "#2. Write a code to count the number of vowels in a string.\n",
        "\n",
        "def count_vowels(s):\n",
        "    vowels = \"aeiouAEIOU\"\n",
        "    return sum(1 for ch in s if ch in vowels)\n",
        "\n",
        "print(count_vowels(\"hello world\"))"
      ],
      "metadata": {
        "colab": {
          "base_uri": "https://localhost:8080/",
          "height": 0
        },
        "id": "7Hb2EhHpQxyR",
        "outputId": "d025f59d-5e09-449f-8088-747517dcbccb"
      },
      "execution_count": 5,
      "outputs": [
        {
          "output_type": "stream",
          "name": "stdout",
          "text": [
            "3\n"
          ]
        }
      ]
    },
    {
      "cell_type": "code",
      "source": [
        "#3. Write a code to check if a given string is a palindrome or not.\n",
        "\n",
        "def is_palindrome(s):\n",
        "    return s == s[::-1]\n",
        "\n",
        "print(is_palindrome(\"level\"))"
      ],
      "metadata": {
        "colab": {
          "base_uri": "https://localhost:8080/",
          "height": 0
        },
        "id": "LOUAaFOgQ9Oo",
        "outputId": "254bd78c-3b08-4792-959a-fe44435bb0b3"
      },
      "execution_count": 4,
      "outputs": [
        {
          "output_type": "stream",
          "name": "stdout",
          "text": [
            "True\n"
          ]
        }
      ]
    },
    {
      "cell_type": "code",
      "source": [
        "#4. Write a code to check if two given strings are anagrams of each other.\n",
        "\n",
        "def are_anagrams(s1, s2):\n",
        "    return sorted(s1) == sorted(s2)\n",
        "\n",
        "print(are_anagrams(\"listen\", \"silent\"))"
      ],
      "metadata": {
        "colab": {
          "base_uri": "https://localhost:8080/",
          "height": 0
        },
        "id": "5u4e_BASRKOK",
        "outputId": "49c95f7a-125e-4df5-e034-5167c35703d4"
      },
      "execution_count": 6,
      "outputs": [
        {
          "output_type": "stream",
          "name": "stdout",
          "text": [
            "True\n"
          ]
        }
      ]
    },
    {
      "cell_type": "code",
      "source": [
        "#5. Write a code to find all occurrences of a given substring within another string.\n",
        "\n",
        "def find_occurrences(text, sub):\n",
        "    return [i for i in range(len(text)) if text.startswith(sub, i)]\n",
        "\n",
        "print(find_occurrences(\"banana\", \"na\"))"
      ],
      "metadata": {
        "colab": {
          "base_uri": "https://localhost:8080/",
          "height": 0
        },
        "id": "SbmM-R-QRPaW",
        "outputId": "de188ff4-6c0b-46ee-c957-d90db6d5c961"
      },
      "execution_count": 7,
      "outputs": [
        {
          "output_type": "stream",
          "name": "stdout",
          "text": [
            "[2, 4]\n"
          ]
        }
      ]
    },
    {
      "cell_type": "code",
      "source": [
        "#6. Write a code to perform basic string compression using the counts of repeated characters\n",
        "\n",
        "def compress_string(s):\n",
        "  result = \"\"\n",
        "  i = 0\n",
        "  while i < len(s):\n",
        "    count = 1\n",
        "    while i+1 < len(s) and s[i] == s[i+1]:\n",
        "      i += 1\n",
        "      count += 1\n",
        "    result += s[i] + str(count)\n",
        "    i += 1\n",
        "  return result\n",
        "\n",
        "print(compress_string(\"aabcccccaaa\"))"
      ],
      "metadata": {
        "colab": {
          "base_uri": "https://localhost:8080/",
          "height": 0
        },
        "id": "UT6llntpRfzw",
        "outputId": "dac3b958-3e62-429b-f25c-5593611c3637"
      },
      "execution_count": 8,
      "outputs": [
        {
          "output_type": "stream",
          "name": "stdout",
          "text": [
            "a2b1c5a3\n"
          ]
        }
      ]
    },
    {
      "cell_type": "code",
      "source": [
        "#7. Write a code to determine if a string has all unique characters.\n",
        "\n",
        "def is_unique(s):\n",
        "    return len(set(s)) == len(s)\n",
        "\n",
        "print(is_unique(\"abcd\"))"
      ],
      "metadata": {
        "colab": {
          "base_uri": "https://localhost:8080/",
          "height": 0
        },
        "id": "0_UPHzbuSP59",
        "outputId": "56e1c6dd-aad4-4b95-ff6a-27b5b8bfcf93"
      },
      "execution_count": 9,
      "outputs": [
        {
          "output_type": "stream",
          "name": "stdout",
          "text": [
            "True\n"
          ]
        }
      ]
    },
    {
      "cell_type": "code",
      "source": [
        "#8.  Write a code to convert a given string to uppercase or lowercase\n",
        "\n",
        "s = \"Hello World\"\n",
        "print(s.upper())\n",
        "print(s.lower())"
      ],
      "metadata": {
        "colab": {
          "base_uri": "https://localhost:8080/",
          "height": 0
        },
        "id": "aDyH25sBSclR",
        "outputId": "33321853-6087-4319-ef95-bc04ca648ad5"
      },
      "execution_count": 10,
      "outputs": [
        {
          "output_type": "stream",
          "name": "stdout",
          "text": [
            "HELLO WORLD\n",
            "hello world\n"
          ]
        }
      ]
    },
    {
      "cell_type": "code",
      "source": [
        "#9. Write a code to count the number of words in a string\n",
        "\n",
        "def count_words(s):\n",
        "    return len(s.split())\n",
        "\n",
        "print(count_words(\"The quick brown fox\"))"
      ],
      "metadata": {
        "colab": {
          "base_uri": "https://localhost:8080/",
          "height": 0
        },
        "id": "27PjP9VLSiQi",
        "outputId": "e3f9310c-f38b-4bb3-ac63-19cf16839595"
      },
      "execution_count": 11,
      "outputs": [
        {
          "output_type": "stream",
          "name": "stdout",
          "text": [
            "4\n"
          ]
        }
      ]
    },
    {
      "cell_type": "code",
      "source": [
        "#10. Write a code to concatenate two strings without using the + operator\n",
        "\n",
        "def concat_strings(s1, s2):\n",
        "    return \"{}{}\".format(s1, s2)\n",
        "\n",
        "print(concat_strings(\"Hello\", \"World\"))"
      ],
      "metadata": {
        "colab": {
          "base_uri": "https://localhost:8080/",
          "height": 0
        },
        "id": "vlVrWpquSpP2",
        "outputId": "c1772bef-1da5-4c52-fbbb-feaaf7f682e8"
      },
      "execution_count": 12,
      "outputs": [
        {
          "output_type": "stream",
          "name": "stdout",
          "text": [
            "HelloWorld\n"
          ]
        }
      ]
    },
    {
      "cell_type": "code",
      "source": [
        "#11. Write a code to remove all occurrences of a specific element from a list\n",
        "\n",
        "def remove_element(lst, element):\n",
        "  return [x for x in lst if x != element]\n",
        "\n",
        "print(remove_element([1, 2, 3, 2, 4], 2))"
      ],
      "metadata": {
        "colab": {
          "base_uri": "https://localhost:8080/",
          "height": 0
        },
        "id": "HIQIV80wSv0g",
        "outputId": "f386aeb8-1873-4747-f407-428b928ec1cd"
      },
      "execution_count": 13,
      "outputs": [
        {
          "output_type": "stream",
          "name": "stdout",
          "text": [
            "[1, 3, 4]\n"
          ]
        }
      ]
    },
    {
      "cell_type": "code",
      "source": [
        "#12. Implement a code to find the second largest number in a given list of integers\n",
        "\n",
        "def second_largest(lst):\n",
        "    unique = list(set(lst))\n",
        "    unique.sort()\n",
        "    return unique[-2] if len(unique) >= 2 else None\n",
        "\n",
        "print(second_largest([1, 2, 3, 4]))"
      ],
      "metadata": {
        "colab": {
          "base_uri": "https://localhost:8080/",
          "height": 0
        },
        "id": "td92AjELS5BB",
        "outputId": "29fc2961-898b-4ee4-d888-31bbc33c201e"
      },
      "execution_count": 14,
      "outputs": [
        {
          "output_type": "stream",
          "name": "stdout",
          "text": [
            "3\n"
          ]
        }
      ]
    },
    {
      "cell_type": "code",
      "source": [
        "#13. Create a code to count the occurrences of each element in a list and return a dictionary with elements as keys and\n",
        "# their counts as values\n",
        "\n",
        "from collections import Counter\n",
        "\n",
        "def count_elements(lst):\n",
        "    return dict(Counter(lst))\n",
        "\n",
        "print(count_elements([1, 2, 2, 3, 3, 3]))"
      ],
      "metadata": {
        "colab": {
          "base_uri": "https://localhost:8080/",
          "height": 0
        },
        "id": "EVET6vYvS_ii",
        "outputId": "3257e6ef-8c69-4aa7-e580-da1479c62749"
      },
      "execution_count": 15,
      "outputs": [
        {
          "output_type": "stream",
          "name": "stdout",
          "text": [
            "{1: 1, 2: 2, 3: 3}\n"
          ]
        }
      ]
    },
    {
      "cell_type": "code",
      "source": [
        "#14. Write a code to reverse a list in-place without using any built-in reverse functions\n",
        "\n",
        "def reverse_list(lst):\n",
        "    for i in range(len(lst)//2):\n",
        "        lst[i], lst[-1-i] = lst[-1-i], lst[i]\n",
        "    return lst\n",
        "\n",
        "print(reverse_list([1, 2, 3, 4]))"
      ],
      "metadata": {
        "colab": {
          "base_uri": "https://localhost:8080/",
          "height": 0
        },
        "id": "xLrU5AWYTxLZ",
        "outputId": "47502ffa-baf2-4e3d-facd-efcb1532c807"
      },
      "execution_count": 16,
      "outputs": [
        {
          "output_type": "stream",
          "name": "stdout",
          "text": [
            "[4, 3, 2, 1]\n"
          ]
        }
      ]
    },
    {
      "cell_type": "code",
      "source": [
        "#15. Implement a code to find and remove duplicates from a list while preserving the original order of elements\n",
        "\n",
        "def remove_duplicates(lst):\n",
        "  seen = set()\n",
        "  result = []\n",
        "  for i in lst:\n",
        "    if i not in seen:\n",
        "      seen.add(i)\n",
        "      result.append(i)\n",
        "  return result\n",
        "\n",
        "print(remove_duplicates([1, 2, 2, 3, 1]))"
      ],
      "metadata": {
        "colab": {
          "base_uri": "https://localhost:8080/",
          "height": 0
        },
        "id": "7xJ7mV3VY3J2",
        "outputId": "1e195f9d-4341-4c68-84b7-c6be95cdc730"
      },
      "execution_count": 17,
      "outputs": [
        {
          "output_type": "stream",
          "name": "stdout",
          "text": [
            "[1, 2, 3]\n"
          ]
        }
      ]
    },
    {
      "cell_type": "code",
      "source": [
        "#16. Create a code to check if a given list is sorted (either in ascending or descending order) or not\n",
        "\n",
        "def is_sorted(lst):\n",
        "  return lst == sorted(lst) or lst == sorted(lst, reverse=True)\n",
        "\n",
        "print(is_sorted([1, 2, 3, 4]))\n",
        "print(is_sorted([4, 3, 2, 1]))\n",
        "print(is_sorted([1, 3, 2]))"
      ],
      "metadata": {
        "colab": {
          "base_uri": "https://localhost:8080/",
          "height": 0
        },
        "id": "xRyZd4CKZTFP",
        "outputId": "54fa74b8-5675-4e05-e77a-70e50d89176e"
      },
      "execution_count": 18,
      "outputs": [
        {
          "output_type": "stream",
          "name": "stdout",
          "text": [
            "True\n",
            "True\n",
            "False\n"
          ]
        }
      ]
    },
    {
      "cell_type": "code",
      "source": [
        "#17.  Write a code to merge two sorted lists into a single sorted list\n",
        "\n",
        "def merge_sorted_lists(a, b):\n",
        "    result = []\n",
        "    i = j = 0\n",
        "    while i < len(a) and j < len(b):\n",
        "        if a[i] < b[j]:\n",
        "            result.append(a[i])\n",
        "            i += 1\n",
        "        else:\n",
        "            result.append(b[j])\n",
        "            j += 1\n",
        "    result.extend(a[i:])\n",
        "    result.extend(b[j:])\n",
        "    return result\n",
        "\n",
        "print(merge_sorted_lists([1, 3, 5], [2, 4, 6]))"
      ],
      "metadata": {
        "colab": {
          "base_uri": "https://localhost:8080/",
          "height": 0
        },
        "id": "GZAks0zIZd6Z",
        "outputId": "4accea8b-7df2-4287-9a1c-8bf9f7a0ebe8"
      },
      "execution_count": 19,
      "outputs": [
        {
          "output_type": "stream",
          "name": "stdout",
          "text": [
            "[1, 2, 3, 4, 5, 6]\n"
          ]
        }
      ]
    },
    {
      "cell_type": "code",
      "source": [
        "#18. Implement a code to find the intersection of two given lists\n",
        "\n",
        "def list_intersection(a, b):\n",
        "    return list(set(a) & set(b))\n",
        "\n",
        "print(list_intersection([1, 2, 3], [2, 3, 4]))"
      ],
      "metadata": {
        "colab": {
          "base_uri": "https://localhost:8080/",
          "height": 0
        },
        "id": "3kCe60q0ZlRG",
        "outputId": "ce59cbd4-0867-4ba2-e9ec-11c32fdf59c2"
      },
      "execution_count": 20,
      "outputs": [
        {
          "output_type": "stream",
          "name": "stdout",
          "text": [
            "[2, 3]\n"
          ]
        }
      ]
    },
    {
      "cell_type": "code",
      "source": [
        "#19. Create a code to find the union of two lists without duplicates\n",
        "\n",
        "def list_union(a, b):\n",
        "    return list(set(a) | set(b))\n",
        "\n",
        "print(list_union([1, 2, 3], [3, 4, 5]))"
      ],
      "metadata": {
        "colab": {
          "base_uri": "https://localhost:8080/",
          "height": 0
        },
        "id": "WGtaKEvLZriX",
        "outputId": "23340161-68b9-4b17-cfd8-a43c58328846"
      },
      "execution_count": 21,
      "outputs": [
        {
          "output_type": "stream",
          "name": "stdout",
          "text": [
            "[1, 2, 3, 4, 5]\n"
          ]
        }
      ]
    },
    {
      "cell_type": "code",
      "source": [
        "#20. Write a code to shuffle a given list randomly without using any built-in shuffle functions\n",
        "\n",
        "import random\n",
        "\n",
        "def custom_shuffle(lst):\n",
        "    shuffled = lst[:]\n",
        "    for i in range(len(shuffled)-1, 0, -1):\n",
        "        j = random.randint(0, i)\n",
        "        shuffled[i], shuffled[j] = shuffled[j], shuffled[i]\n",
        "    return shuffled\n",
        "\n",
        "print(custom_shuffle([1, 2, 3, 4, 5]))"
      ],
      "metadata": {
        "colab": {
          "base_uri": "https://localhost:8080/",
          "height": 0
        },
        "id": "dmEo0tOUZw_Z",
        "outputId": "c36ba7a8-dfb5-422f-a880-b26df41fa2ed"
      },
      "execution_count": 22,
      "outputs": [
        {
          "output_type": "stream",
          "name": "stdout",
          "text": [
            "[3, 4, 2, 1, 5]\n"
          ]
        }
      ]
    },
    {
      "cell_type": "code",
      "source": [
        "#21. Write a code that takes two tuples as input and returns a new tuple containing elements that are common to both\n",
        "# input tuples\n",
        "\n",
        "def tuple_common(t1, t2):\n",
        "    return tuple(set(t1) & set(t2))\n",
        "\n",
        "print(tuple_common((1, 2, 3), (2, 3, 4)))"
      ],
      "metadata": {
        "colab": {
          "base_uri": "https://localhost:8080/",
          "height": 0
        },
        "id": "wCbjDdrgZ3Pe",
        "outputId": "7c2bd2dc-9a14-4f43-d96a-528772e720b9"
      },
      "execution_count": 23,
      "outputs": [
        {
          "output_type": "stream",
          "name": "stdout",
          "text": [
            "(2, 3)\n"
          ]
        }
      ]
    },
    {
      "cell_type": "code",
      "source": [
        "#22. Create a code that prompts the user to enter two sets of integers separated by commas. Then, print the intersection\n",
        "# of these two sets\n",
        "\n",
        "set1_input = input(\"Enter the first set of integers (comma-separated): \")\n",
        "set2_input = input(\"Enter the second set of integers (comma-separated): \")\n",
        "\n",
        "# Convert input strings to sets of integers\n",
        "set1 = set(map(int, set1_input.split(',')))\n",
        "set2 = set(map(int, set2_input.split(',')))\n",
        "\n",
        "# Find the intersection\n",
        "intersection = set1 & set2  # or set1.intersection(set2)\n",
        "\n",
        "# Print the result\n",
        "print(\"Intersection of the two sets:\", intersection)"
      ],
      "metadata": {
        "colab": {
          "base_uri": "https://localhost:8080/",
          "height": 0
        },
        "id": "ExK6as8hZ9G4",
        "outputId": "7c3d02b1-57a6-4dc9-acdb-a7fd69c49b6b"
      },
      "execution_count": 28,
      "outputs": [
        {
          "output_type": "stream",
          "name": "stdout",
          "text": [
            "Enter the first set of integers (comma-separated): 1,2,3,4,5\n",
            "Enter the second set of integers (comma-separated): 3,4,5,6,7\n",
            "Intersection of the two sets: {3, 4, 5}\n"
          ]
        }
      ]
    },
    {
      "cell_type": "code",
      "source": [
        "#23. Write a code to concatenate two tuples. The function should take two tuples as input and return a new tuple\n",
        "# containing elements from both input tuples\n",
        "\n",
        "def concat_tuples(t1, t2):\n",
        "    return t1 + t2\n",
        "\n",
        "print(concat_tuples((1, 2), (3, 4)))"
      ],
      "metadata": {
        "colab": {
          "base_uri": "https://localhost:8080/",
          "height": 0
        },
        "id": "m7NnsqltasSW",
        "outputId": "d2cd23b2-077d-4435-82bf-be3f188befa8"
      },
      "execution_count": 29,
      "outputs": [
        {
          "output_type": "stream",
          "name": "stdout",
          "text": [
            "(1, 2, 3, 4)\n"
          ]
        }
      ]
    },
    {
      "cell_type": "code",
      "source": [
        "#24.  Develop a code that prompts the user to input two sets of strings. Then, print the elements that are present\n",
        "# in the first set but not in the second set\n",
        "\n",
        "# Prompt the user to enter two sets of strings\n",
        "set1_input = input(\"Enter the first set of strings (comma-separated): \")\n",
        "set2_input = input(\"Enter the second set of strings (comma-separated): \")\n",
        "\n",
        "# Convert the input into sets of strings (strip whitespace)\n",
        "set1 = set(s.strip() for s in set1_input.split(','))\n",
        "set2 = set(s.strip() for s in set2_input.split(','))\n",
        "\n",
        "# Find the difference: elements in set1 but not in set2\n",
        "difference = set1 - set2  # or set1.difference(set2)\n",
        "\n",
        "# Print the result\n",
        "print(\"Elements in the first set but not in the second:\", difference)"
      ],
      "metadata": {
        "colab": {
          "base_uri": "https://localhost:8080/",
          "height": 0
        },
        "id": "cUqxXlLua1JG",
        "outputId": "426c9f07-66ab-475b-bf02-0912e89be86f"
      },
      "execution_count": 30,
      "outputs": [
        {
          "output_type": "stream",
          "name": "stdout",
          "text": [
            "Enter the first set of strings (comma-separated): apple, banana, cherry\n",
            "Enter the second set of strings (comma-separated): banana, kiwi\n",
            "Elements in the first set but not in the second: {'cherry', 'apple'}\n"
          ]
        }
      ]
    },
    {
      "cell_type": "code",
      "source": [
        "#25. Create a code that takes a tuple and two integers as input. The function should return a new tuple containing\n",
        "# elements from the original tuple within the specified range of indices\n",
        "\n",
        "def tuple_slice(t, start, end):\n",
        "    return t[start:end]\n",
        "\n",
        "print(tuple_slice((1, 2, 3, 4, 5), 1, 4))"
      ],
      "metadata": {
        "colab": {
          "base_uri": "https://localhost:8080/",
          "height": 0
        },
        "id": "h7gvq3o0bH8A",
        "outputId": "01cac203-5c0b-4eb0-b929-3017d0569a1e"
      },
      "execution_count": 31,
      "outputs": [
        {
          "output_type": "stream",
          "name": "stdout",
          "text": [
            "(2, 3, 4)\n"
          ]
        }
      ]
    },
    {
      "cell_type": "code",
      "source": [
        "#26. Write a code that prompts the user to input two sets of characters. Then, print the union of these two sets\n",
        "\n",
        "# Prompt the user to enter two sets of characters\n",
        "set1_input = input(\"Enter the first set of characters (comma-separated): \")\n",
        "set2_input = input(\"Enter the second set of characters (comma-separated): \")\n",
        "\n",
        "# Convert input strings to sets of characters (strip whitespace)\n",
        "set1 = set(char.strip() for char in set1_input.split(','))\n",
        "set2 = set(char.strip() for char in set2_input.split(','))\n",
        "\n",
        "# Compute the union\n",
        "union_set = set1 | set2  # or set1.union(set2)\n",
        "\n",
        "# Print the result\n",
        "print(\"Union of the two sets:\", union_set)"
      ],
      "metadata": {
        "colab": {
          "base_uri": "https://localhost:8080/",
          "height": 0
        },
        "id": "nkElp8HgbUM6",
        "outputId": "2df46a43-7577-4fb8-cb20-93c1d0e16ab7"
      },
      "execution_count": 32,
      "outputs": [
        {
          "output_type": "stream",
          "name": "stdout",
          "text": [
            "Enter the first set of characters (comma-separated): a, b, c\n",
            "Enter the second set of characters (comma-separated): c, d, e\n",
            "Union of the two sets: {'d', 'a', 'e', 'c', 'b'}\n"
          ]
        }
      ]
    },
    {
      "cell_type": "code",
      "source": [
        "#27.  Develop a code that takes a tuple of integers as input. The function should return the maximum and minimum values\n",
        "# from the tuple using tuple unpacking\n",
        "\n",
        "def min_max_in_tuple(t):\n",
        "    return min(t), max(t)\n",
        "\n",
        "print(min_max_in_tuple((10, 2, 34, 1, 7)))"
      ],
      "metadata": {
        "colab": {
          "base_uri": "https://localhost:8080/",
          "height": 0
        },
        "id": "m9uGUbakbfnw",
        "outputId": "dfe7490a-eb80-4b08-e6a1-508e7aabfecf"
      },
      "execution_count": 33,
      "outputs": [
        {
          "output_type": "stream",
          "name": "stdout",
          "text": [
            "(1, 34)\n"
          ]
        }
      ]
    },
    {
      "cell_type": "code",
      "source": [
        "#28. Create a code that defines two sets of integers. Then, print the union, intersection, and difference of these\n",
        "# two sets\n",
        "\n",
        "# Define two sets of integers\n",
        "set1 = {1, 2, 3, 4, 5}\n",
        "set2 = {4, 5, 6, 7, 8}\n",
        "\n",
        "# Union: elements in either set\n",
        "union_result = set1 | set2\n",
        "\n",
        "# Intersection: elements in both sets\n",
        "intersection_result = set1 & set2\n",
        "\n",
        "# Difference: elements in set1 but not in set2\n",
        "difference_result = set1 - set2\n",
        "\n",
        "# Print the results\n",
        "print(\"Set 1:\", set1)\n",
        "print(\"Set 2:\", set2)\n",
        "print(\"Union:\", union_result)\n",
        "print(\"Intersection:\", intersection_result)\n",
        "print(\"Difference (Set1 - Set2):\", difference_result)"
      ],
      "metadata": {
        "colab": {
          "base_uri": "https://localhost:8080/",
          "height": 0
        },
        "id": "3Ofk05Z6bm9u",
        "outputId": "aabebea9-ee62-4827-947c-5798b2268607"
      },
      "execution_count": 35,
      "outputs": [
        {
          "output_type": "stream",
          "name": "stdout",
          "text": [
            "Set 1: {1, 2, 3, 4, 5}\n",
            "Set 2: {4, 5, 6, 7, 8}\n",
            "Union: {1, 2, 3, 4, 5, 6, 7, 8}\n",
            "Intersection: {4, 5}\n",
            "Difference (Set1 - Set2): {1, 2, 3}\n"
          ]
        }
      ]
    },
    {
      "cell_type": "code",
      "source": [
        "#29. Write a code that takes a tuple and an element as input. The function should return the count of occurrences\n",
        "# of the given element in the tuple\n",
        "\n",
        "def tuple_count(t, element):\n",
        "    return t.count(element)\n",
        "\n",
        "print(tuple_count((1, 2, 2, 3, 2), 2))"
      ],
      "metadata": {
        "colab": {
          "base_uri": "https://localhost:8080/",
          "height": 0
        },
        "id": "ciLj_olsb_zA",
        "outputId": "c9583501-7da2-48d9-917f-822ffbc99a21"
      },
      "execution_count": 36,
      "outputs": [
        {
          "output_type": "stream",
          "name": "stdout",
          "text": [
            "3\n"
          ]
        }
      ]
    },
    {
      "cell_type": "code",
      "source": [
        "#30.  Develop a code that prompts the user to input two sets of strings. Then, print the symmetric difference of\n",
        "# these two sets\n",
        "\n",
        "# Prompt the user to enter two sets of strings\n",
        "set1_input = input(\"Enter the first set of strings (comma-separated): \")\n",
        "set2_input = input(\"Enter the second set of strings (comma-separated): \")\n",
        "\n",
        "# Convert the input strings into sets (stripping whitespace)\n",
        "set1 = set(item.strip() for item in set1_input.split(','))\n",
        "set2 = set(item.strip() for item in set2_input.split(','))\n",
        "\n",
        "# Compute the symmetric difference\n",
        "symmetric_diff = set1 ^ set2  # or set1.symmetric_difference(set2)\n",
        "\n",
        "# Print the result\n",
        "print(\"Symmetric difference between the two sets:\", symmetric_diff)"
      ],
      "metadata": {
        "colab": {
          "base_uri": "https://localhost:8080/",
          "height": 0
        },
        "id": "EUjWzapxcJiK",
        "outputId": "97531634-4bc0-4be3-a34e-61563e78be04"
      },
      "execution_count": 37,
      "outputs": [
        {
          "output_type": "stream",
          "name": "stdout",
          "text": [
            "Enter the first set of strings (comma-separated): red, blue, green\n",
            "Enter the second set of strings (comma-separated): blue, yellow, pink\n",
            "Symmetric difference between the two sets: {'green', 'pink', 'yellow', 'red'}\n"
          ]
        }
      ]
    },
    {
      "cell_type": "code",
      "source": [
        "#31. Write a code that takes a list of words as input and returns a dictionary where the keys are unique words and\n",
        "# the values are the frequencies of those words in the input list\n",
        "\n",
        "def word_frequencies(words):\n",
        "    freq = {}\n",
        "    for word in words:\n",
        "        freq[word] = freq.get(word, 0) + 1\n",
        "    return freq\n",
        "\n",
        "print(word_frequencies([\"apple\", \"banana\", \"apple\", \"orange\", \"banana\", \"apple\"]))"
      ],
      "metadata": {
        "colab": {
          "base_uri": "https://localhost:8080/",
          "height": 0
        },
        "id": "Cl0MzJL8cYEP",
        "outputId": "596847a2-bbae-4fc7-8e1c-39b6de50971a"
      },
      "execution_count": 38,
      "outputs": [
        {
          "output_type": "stream",
          "name": "stdout",
          "text": [
            "{'apple': 3, 'banana': 2, 'orange': 1}\n"
          ]
        }
      ]
    },
    {
      "cell_type": "code",
      "source": [
        "#32. Write a code that takes two dictionaries as input and merges them into a single dictionary. If there are common\n",
        "# keys, the values should be added together\n",
        "\n",
        "def merge_dicts(d1, d2):\n",
        "    result = d1.copy()\n",
        "    for k, v in d2.items():\n",
        "        result[k] = result.get(k, 0) + v\n",
        "    return result\n",
        "\n",
        "print(merge_dicts({'a': 1, 'b': 2}, {'b': 3, 'c': 4}))"
      ],
      "metadata": {
        "colab": {
          "base_uri": "https://localhost:8080/",
          "height": 0
        },
        "id": "J1hL8waKcuau",
        "outputId": "1aba94b9-61b2-42e7-f263-e13606a5a646"
      },
      "execution_count": 39,
      "outputs": [
        {
          "output_type": "stream",
          "name": "stdout",
          "text": [
            "{'a': 1, 'b': 5, 'c': 4}\n"
          ]
        }
      ]
    },
    {
      "cell_type": "code",
      "source": [
        "#33. Write a code to access a value in a nested dictionary. The function should take the dictionary and a list of\n",
        "# keys as input, and return the corresponding value. If any of the keys do not exist in the dictionary, the\n",
        "# function should return None\n",
        "\n",
        "def access_nested_dict(data, keys):\n",
        "    for key in keys:\n",
        "        data = data.get(key)\n",
        "        if data is None:\n",
        "            return None\n",
        "    return data\n",
        "\n",
        "nested = {'a': {'b': {'c': 5}}}\n",
        "print(access_nested_dict(nested, ['a', 'b', 'c']))"
      ],
      "metadata": {
        "colab": {
          "base_uri": "https://localhost:8080/",
          "height": 0
        },
        "id": "61OkUAFPc31Y",
        "outputId": "68391099-9224-4a79-cee2-35b04d08171b"
      },
      "execution_count": 40,
      "outputs": [
        {
          "output_type": "stream",
          "name": "stdout",
          "text": [
            "5\n"
          ]
        }
      ]
    },
    {
      "cell_type": "code",
      "source": [
        "#34. Write a code that takes a dictionary as input and returns a sorted version of it based on the values. You can\n",
        "# choose whether to sort in ascending or descending order\n",
        "\n",
        "def sort_dict_by_values(d, reverse=False):\n",
        "    return dict(sorted(d.items(), key=lambda item: item[1], reverse=reverse))\n",
        "\n",
        "print(sort_dict_by_values({'a': 3, 'b': 1, 'c': 2}))"
      ],
      "metadata": {
        "colab": {
          "base_uri": "https://localhost:8080/",
          "height": 0
        },
        "id": "_LFMpQWDdBM4",
        "outputId": "d0a98438-7ff5-4bcd-f8bc-869a788fd9da"
      },
      "execution_count": 41,
      "outputs": [
        {
          "output_type": "stream",
          "name": "stdout",
          "text": [
            "{'b': 1, 'c': 2, 'a': 3}\n"
          ]
        }
      ]
    },
    {
      "cell_type": "code",
      "source": [
        "#35. Write a code that inverts a dictionary, swapping keys and values. Ensure that the inverted dictionary correctly\n",
        "# handles cases where multiple keys have the same value by storing the keys as a list in the inverted dictionary\n",
        "\n",
        "def invert_dict(d):\n",
        "    inverted = {}\n",
        "    for k, v in d.items():\n",
        "        if v not in inverted:\n",
        "            inverted[v] = [k]\n",
        "        else:\n",
        "            inverted[v].append(k)\n",
        "    return inverted\n",
        "\n",
        "print(invert_dict({'a': 1, 'b': 2, 'c': 1}))"
      ],
      "metadata": {
        "colab": {
          "base_uri": "https://localhost:8080/",
          "height": 0
        },
        "id": "cSmS4s-fdIjP",
        "outputId": "878e65de-679f-4288-9e61-e59ea40c8cc1"
      },
      "execution_count": 42,
      "outputs": [
        {
          "output_type": "stream",
          "name": "stdout",
          "text": [
            "{1: ['a', 'c'], 2: ['b']}\n"
          ]
        }
      ]
    }
  ]
}